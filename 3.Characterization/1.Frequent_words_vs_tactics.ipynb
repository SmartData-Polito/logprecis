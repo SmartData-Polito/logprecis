{
 "cells": [
  {
   "cell_type": "markdown",
   "id": "776353ce-ac75-4ee2-86a6-7b2bb2faf02f",
   "metadata": {},
   "source": [
    "# This notebook performs a simple characterization of the data:\n",
    "## (Figure 8 of the paper)\n",
    "- Create a table to visualize most frequent words vs their predictions\n",
    "- Prove the importance of Attention ('echo' and 'rm' examples)"
   ]
  },
  {
   "cell_type": "markdown",
   "id": "5e89b06a-850d-491c-9264-b7dc317d6516",
   "metadata": {},
   "source": [
    "## Prepare data\n",
    "***"
   ]
  },
  {
   "cell_type": "markdown",
   "id": "8678c5e3-00bd-4625-bc8d-87c8b5d356ff",
   "metadata": {},
   "source": [
    "### Import predictions"
   ]
  },
  {
   "cell_type": "code",
   "execution_count": 1,
   "id": "e896f3c0-0082-491f-81aa-2252241e3938",
   "metadata": {},
   "outputs": [
    {
     "data": {
      "text/html": [
       "<div>\n",
       "<style scoped>\n",
       "    .dataframe tbody tr th:only-of-type {\n",
       "        vertical-align: middle;\n",
       "    }\n",
       "\n",
       "    .dataframe tbody tr th {\n",
       "        vertical-align: top;\n",
       "    }\n",
       "\n",
       "    .dataframe thead th {\n",
       "        text-align: right;\n",
       "    }\n",
       "</style>\n",
       "<table border=\"1\" class=\"dataframe\">\n",
       "  <thead>\n",
       "    <tr style=\"text-align: right;\">\n",
       "      <th></th>\n",
       "      <th>session_id</th>\n",
       "      <th>sequence_words</th>\n",
       "      <th>sequence_predictions</th>\n",
       "    </tr>\n",
       "  </thead>\n",
       "  <tbody>\n",
       "    <tr>\n",
       "      <th>0</th>\n",
       "      <td>0</td>\n",
       "      <td>[enable, ;, system, ;, shell, ;, sh, ;, cat, /...</td>\n",
       "      <td>[Discovery, Discovery, Discovery, Discovery, D...</td>\n",
       "    </tr>\n",
       "    <tr>\n",
       "      <th>1</th>\n",
       "      <td>1</td>\n",
       "      <td>[enable, ;, system, ;, shell, ;, sh, ;, cat, /...</td>\n",
       "      <td>[Discovery, Discovery, Discovery, Discovery, D...</td>\n",
       "    </tr>\n",
       "  </tbody>\n",
       "</table>\n",
       "</div>"
      ],
      "text/plain": [
       "   session_id                                     sequence_words  \\\n",
       "0           0  [enable, ;, system, ;, shell, ;, sh, ;, cat, /...   \n",
       "1           1  [enable, ;, system, ;, shell, ;, sh, ;, cat, /...   \n",
       "\n",
       "                                sequence_predictions  \n",
       "0  [Discovery, Discovery, Discovery, Discovery, D...  \n",
       "1  [Discovery, Discovery, Discovery, Discovery, D...  "
      ]
     },
     "execution_count": 1,
     "metadata": {},
     "output_type": "execute_result"
    }
   ],
   "source": [
    "from tqdm import tqdm\n",
    "tqdm.pandas()\n",
    "import pandas as pd \n",
    "predicted_corpus = pd.read_parquet(f\"../1.Dataset/Inference_with_predictions/logprecis_predictions.parquet\")\n",
    "predicted_corpus.head(2)"
   ]
  },
  {
   "cell_type": "markdown",
   "id": "3ec09001",
   "metadata": {},
   "source": [
    "Concatenate `sequence words` and `sequence_predictions`"
   ]
  },
  {
   "cell_type": "code",
   "execution_count": 2,
   "id": "4bb45d7f",
   "metadata": {},
   "outputs": [
    {
     "name": "stderr",
     "output_type": "stream",
     "text": [
      "100%|██████████| 233035/233035 [00:01<00:00, 119875.75it/s]\n",
      "100%|██████████| 233035/233035 [00:01<00:00, 145222.27it/s]\n"
     ]
    },
    {
     "name": "stdout",
     "output_type": "stream",
     "text": [
      "Corpus contains 233,035 sessions (233,035 unique)\n",
      "Furthermore, corpus contains 1673 unique fingerprints\n"
     ]
    },
    {
     "data": {
      "text/html": [
       "<div>\n",
       "<style scoped>\n",
       "    .dataframe tbody tr th:only-of-type {\n",
       "        vertical-align: middle;\n",
       "    }\n",
       "\n",
       "    .dataframe tbody tr th {\n",
       "        vertical-align: top;\n",
       "    }\n",
       "\n",
       "    .dataframe thead th {\n",
       "        text-align: right;\n",
       "    }\n",
       "</style>\n",
       "<table border=\"1\" class=\"dataframe\">\n",
       "  <thead>\n",
       "    <tr style=\"text-align: right;\">\n",
       "      <th></th>\n",
       "      <th>session_id</th>\n",
       "      <th>sequence_words</th>\n",
       "      <th>sequence_predictions</th>\n",
       "      <th>session</th>\n",
       "      <th>predictions</th>\n",
       "    </tr>\n",
       "  </thead>\n",
       "  <tbody>\n",
       "    <tr>\n",
       "      <th>0</th>\n",
       "      <td>0</td>\n",
       "      <td>[enable, ;, system, ;, shell, ;, sh, ;, cat, /...</td>\n",
       "      <td>[Discovery, Discovery, Discovery, Discovery, D...</td>\n",
       "      <td>enable ; system ; shell ; sh ; cat /proc/mount...</td>\n",
       "      <td>Discovery -- Discovery -- Discovery -- Discove...</td>\n",
       "    </tr>\n",
       "    <tr>\n",
       "      <th>1</th>\n",
       "      <td>1</td>\n",
       "      <td>[enable, ;, system, ;, shell, ;, sh, ;, cat, /...</td>\n",
       "      <td>[Discovery, Discovery, Discovery, Discovery, D...</td>\n",
       "      <td>enable ; system ; shell ; sh ; cat /proc/mount...</td>\n",
       "      <td>Discovery -- Discovery -- Discovery -- Discove...</td>\n",
       "    </tr>\n",
       "  </tbody>\n",
       "</table>\n",
       "</div>"
      ],
      "text/plain": [
       "   session_id                                     sequence_words  \\\n",
       "0           0  [enable, ;, system, ;, shell, ;, sh, ;, cat, /...   \n",
       "1           1  [enable, ;, system, ;, shell, ;, sh, ;, cat, /...   \n",
       "\n",
       "                                sequence_predictions  \\\n",
       "0  [Discovery, Discovery, Discovery, Discovery, D...   \n",
       "1  [Discovery, Discovery, Discovery, Discovery, D...   \n",
       "\n",
       "                                             session  \\\n",
       "0  enable ; system ; shell ; sh ; cat /proc/mount...   \n",
       "1  enable ; system ; shell ; sh ; cat /proc/mount...   \n",
       "\n",
       "                                         predictions  \n",
       "0  Discovery -- Discovery -- Discovery -- Discove...  \n",
       "1  Discovery -- Discovery -- Discovery -- Discove...  "
      ]
     },
     "execution_count": 2,
     "metadata": {},
     "output_type": "execute_result"
    }
   ],
   "source": [
    "predicted_corpus[\"session\"] = predicted_corpus[\"sequence_words\"].progress_apply(\n",
    "                                                lambda split_session: \" \".join(split_session))\n",
    "predicted_corpus[\"predictions\"] = predicted_corpus[\"sequence_predictions\"].progress_apply(\n",
    "                                                lambda split_prediction: \" -- \".join(split_prediction))\n",
    "print(f\"Corpus contains {predicted_corpus.shape[0]:,} sessions ({predicted_corpus.session.nunique():,} unique)\")\n",
    "print(f\"Furthermore, corpus contains {predicted_corpus.predictions.nunique()} unique fingerprints\")\n",
    "predicted_corpus.head(2)"
   ]
  },
  {
   "cell_type": "markdown",
   "id": "f023df00",
   "metadata": {},
   "source": [
    "### Join predictions with full dataset (containing metadata)"
   ]
  },
  {
   "cell_type": "markdown",
   "id": "38e47a21-e524-4259-b8a6-3bb39b82cead",
   "metadata": {},
   "source": [
    "Load original data (reset indexes to numeric)"
   ]
  },
  {
   "cell_type": "code",
   "execution_count": 3,
   "id": "60ac9753",
   "metadata": {},
   "outputs": [
    {
     "data": {
      "text/html": [
       "<div>\n",
       "<style scoped>\n",
       "    .dataframe tbody tr th:only-of-type {\n",
       "        vertical-align: middle;\n",
       "    }\n",
       "\n",
       "    .dataframe tbody tr th {\n",
       "        vertical-align: top;\n",
       "    }\n",
       "\n",
       "    .dataframe thead th {\n",
       "        text-align: right;\n",
       "    }\n",
       "</style>\n",
       "<table border=\"1\" class=\"dataframe\">\n",
       "  <thead>\n",
       "    <tr style=\"text-align: right;\">\n",
       "      <th></th>\n",
       "      <th>session_id</th>\n",
       "      <th>session</th>\n",
       "      <th>sensor</th>\n",
       "      <th>first_timestamp</th>\n",
       "      <th>date</th>\n",
       "    </tr>\n",
       "  </thead>\n",
       "  <tbody>\n",
       "    <tr>\n",
       "      <th>0</th>\n",
       "      <td>0</td>\n",
       "      <td>enable ; system ; shell ; sh ; cat /proc/mount...</td>\n",
       "      <td>eea5dc653b37</td>\n",
       "      <td>2019-06-04 09:45:11.151186+00:00</td>\n",
       "      <td>2019-06-04</td>\n",
       "    </tr>\n",
       "    <tr>\n",
       "      <th>1</th>\n",
       "      <td>1</td>\n",
       "      <td>enable ; system ; shell ; sh ; cat /proc/mount...</td>\n",
       "      <td>eea5dc653b37</td>\n",
       "      <td>2019-06-04 09:45:50.396610+00:00</td>\n",
       "      <td>2019-06-04</td>\n",
       "    </tr>\n",
       "  </tbody>\n",
       "</table>\n",
       "</div>"
      ],
      "text/plain": [
       "   session_id                                            session  \\\n",
       "0           0  enable ; system ; shell ; sh ; cat /proc/mount...   \n",
       "1           1  enable ; system ; shell ; sh ; cat /proc/mount...   \n",
       "\n",
       "         sensor                   first_timestamp        date  \n",
       "0  eea5dc653b37  2019-06-04 09:45:11.151186+00:00  2019-06-04  \n",
       "1  eea5dc653b37  2019-06-04 09:45:50.396610+00:00  2019-06-04  "
      ]
     },
     "execution_count": 3,
     "metadata": {},
     "output_type": "execute_result"
    }
   ],
   "source": [
    "full_corpus = pd.read_csv(f\"../1.Dataset/Inference/cyberlab_data.csv\")\n",
    "if \"session_id\" in full_corpus.columns:\n",
    "    full_corpus = full_corpus.drop(\"session_id\", axis=1)\n",
    "full_corpus = full_corpus.reset_index().rename({\"index\":\"session_id\"}, axis=1)\n",
    "full_corpus.head(2)"
   ]
  },
  {
   "cell_type": "markdown",
   "id": "cd485cfd-624a-4cdf-ac4a-c15e672fb6d9",
   "metadata": {},
   "source": [
    "Join with predictions"
   ]
  },
  {
   "cell_type": "code",
   "execution_count": 4,
   "id": "d3cec9e6",
   "metadata": {},
   "outputs": [
    {
     "data": {
      "text/html": [
       "<div>\n",
       "<style scoped>\n",
       "    .dataframe tbody tr th:only-of-type {\n",
       "        vertical-align: middle;\n",
       "    }\n",
       "\n",
       "    .dataframe tbody tr th {\n",
       "        vertical-align: top;\n",
       "    }\n",
       "\n",
       "    .dataframe thead th {\n",
       "        text-align: right;\n",
       "    }\n",
       "</style>\n",
       "<table border=\"1\" class=\"dataframe\">\n",
       "  <thead>\n",
       "    <tr style=\"text-align: right;\">\n",
       "      <th></th>\n",
       "      <th>session_id</th>\n",
       "      <th>first_timestamp</th>\n",
       "      <th>sensor</th>\n",
       "      <th>date</th>\n",
       "      <th>sequence_words</th>\n",
       "      <th>sequence_predictions</th>\n",
       "    </tr>\n",
       "  </thead>\n",
       "  <tbody>\n",
       "    <tr>\n",
       "      <th>0</th>\n",
       "      <td>0</td>\n",
       "      <td>2019-06-04 09:45:11.151186+00:00</td>\n",
       "      <td>eea5dc653b37</td>\n",
       "      <td>2019-06-04</td>\n",
       "      <td>[enable, ;, system, ;, shell, ;, sh, ;, cat, /...</td>\n",
       "      <td>[Discovery, Discovery, Discovery, Discovery, D...</td>\n",
       "    </tr>\n",
       "    <tr>\n",
       "      <th>1</th>\n",
       "      <td>1</td>\n",
       "      <td>2019-06-04 09:45:50.396610+00:00</td>\n",
       "      <td>eea5dc653b37</td>\n",
       "      <td>2019-06-04</td>\n",
       "      <td>[enable, ;, system, ;, shell, ;, sh, ;, cat, /...</td>\n",
       "      <td>[Discovery, Discovery, Discovery, Discovery, D...</td>\n",
       "    </tr>\n",
       "  </tbody>\n",
       "</table>\n",
       "</div>"
      ],
      "text/plain": [
       "   session_id                   first_timestamp        sensor        date  \\\n",
       "0           0  2019-06-04 09:45:11.151186+00:00  eea5dc653b37  2019-06-04   \n",
       "1           1  2019-06-04 09:45:50.396610+00:00  eea5dc653b37  2019-06-04   \n",
       "\n",
       "                                      sequence_words  \\\n",
       "0  [enable, ;, system, ;, shell, ;, sh, ;, cat, /...   \n",
       "1  [enable, ;, system, ;, shell, ;, sh, ;, cat, /...   \n",
       "\n",
       "                                sequence_predictions  \n",
       "0  [Discovery, Discovery, Discovery, Discovery, D...  \n",
       "1  [Discovery, Discovery, Discovery, Discovery, D...  "
      ]
     },
     "execution_count": 4,
     "metadata": {},
     "output_type": "execute_result"
    }
   ],
   "source": [
    "joined_corpus = full_corpus[[\"session_id\", \"first_timestamp\", \"sensor\", \"date\"]].merge(predicted_corpus[[\"session_id\", \"sequence_words\", \"sequence_predictions\"]], on=\"session_id\")\n",
    "joined_corpus.head(2)"
   ]
  },
  {
   "cell_type": "markdown",
   "id": "ed27aaf5-9bdb-423f-9602-1c819e4bd489",
   "metadata": {},
   "source": [
    "## General Characterization\n",
    "***"
   ]
  },
  {
   "cell_type": "markdown",
   "id": "39cfca76-09a2-4d91-b01d-efc65e3575fd",
   "metadata": {},
   "source": [
    "#### How many words per Tactic?"
   ]
  },
  {
   "cell_type": "code",
   "execution_count": 5,
   "id": "be0f2a5c-5439-42d3-9748-827b8b8c8762",
   "metadata": {},
   "outputs": [
    {
     "name": "stdout",
     "output_type": "stream",
     "text": [
      "Exploded dataset contains 28,150,954 rows and 3 columns\n"
     ]
    },
    {
     "data": {
      "text/html": [
       "<div>\n",
       "<style scoped>\n",
       "    .dataframe tbody tr th:only-of-type {\n",
       "        vertical-align: middle;\n",
       "    }\n",
       "\n",
       "    .dataframe tbody tr th {\n",
       "        vertical-align: top;\n",
       "    }\n",
       "\n",
       "    .dataframe thead th {\n",
       "        text-align: right;\n",
       "    }\n",
       "</style>\n",
       "<table border=\"1\" class=\"dataframe\">\n",
       "  <thead>\n",
       "    <tr style=\"text-align: right;\">\n",
       "      <th></th>\n",
       "      <th>sequence_words</th>\n",
       "      <th>sequence_predictions</th>\n",
       "      <th>date</th>\n",
       "    </tr>\n",
       "  </thead>\n",
       "  <tbody>\n",
       "    <tr>\n",
       "      <th>0</th>\n",
       "      <td>enable</td>\n",
       "      <td>Discovery</td>\n",
       "      <td>2019-06-04</td>\n",
       "    </tr>\n",
       "    <tr>\n",
       "      <th>0</th>\n",
       "      <td>;</td>\n",
       "      <td>Discovery</td>\n",
       "      <td>2019-06-04</td>\n",
       "    </tr>\n",
       "  </tbody>\n",
       "</table>\n",
       "</div>"
      ],
      "text/plain": [
       "  sequence_words sequence_predictions        date\n",
       "0         enable            Discovery  2019-06-04\n",
       "0              ;            Discovery  2019-06-04"
      ]
     },
     "execution_count": 5,
     "metadata": {},
     "output_type": "execute_result"
    }
   ],
   "source": [
    "sessions_date_predictions = joined_corpus[[\"sequence_words\", \"sequence_predictions\", \"date\"]]\n",
    "exploded_df = sessions_date_predictions[[\"sequence_words\", \"sequence_predictions\", \"date\"]].explode([\"sequence_words\", \"sequence_predictions\"])\n",
    "print(f\"Exploded dataset contains {exploded_df.shape[0]:,} rows and {exploded_df.shape[1]:,} columns\")\n",
    "exploded_df.head(2)"
   ]
  },
  {
   "cell_type": "code",
   "execution_count": 6,
   "id": "bf810dd1-8e3a-4f5d-b98d-892c819a473b",
   "metadata": {},
   "outputs": [
    {
     "name": "stdout",
     "output_type": "stream",
     "text": [
      "There are 28,150,954 Unix words in the dataset (400,997 unique)\n"
     ]
    },
    {
     "data": {
      "text/html": [
       "<div>\n",
       "<style scoped>\n",
       "    .dataframe tbody tr th:only-of-type {\n",
       "        vertical-align: middle;\n",
       "    }\n",
       "\n",
       "    .dataframe tbody tr th {\n",
       "        vertical-align: top;\n",
       "    }\n",
       "\n",
       "    .dataframe thead th {\n",
       "        text-align: right;\n",
       "    }\n",
       "</style>\n",
       "<table border=\"1\" class=\"dataframe\">\n",
       "  <thead>\n",
       "    <tr style=\"text-align: right;\">\n",
       "      <th></th>\n",
       "      <th>Tactics</th>\n",
       "      <th>words_x_tactic</th>\n",
       "      <th>%_over_corpus</th>\n",
       "    </tr>\n",
       "  </thead>\n",
       "  <tbody>\n",
       "    <tr>\n",
       "      <th>0</th>\n",
       "      <td>Discovery</td>\n",
       "      <td>22865169</td>\n",
       "      <td>81.22</td>\n",
       "    </tr>\n",
       "    <tr>\n",
       "      <th>1</th>\n",
       "      <td>Persistence</td>\n",
       "      <td>3363033</td>\n",
       "      <td>11.95</td>\n",
       "    </tr>\n",
       "    <tr>\n",
       "      <th>2</th>\n",
       "      <td>Execution</td>\n",
       "      <td>1771002</td>\n",
       "      <td>6.29</td>\n",
       "    </tr>\n",
       "    <tr>\n",
       "      <th>3</th>\n",
       "      <td>Defense Evasion</td>\n",
       "      <td>138774</td>\n",
       "      <td>0.49</td>\n",
       "    </tr>\n",
       "    <tr>\n",
       "      <th>4</th>\n",
       "      <td>Harmless</td>\n",
       "      <td>8952</td>\n",
       "      <td>0.03</td>\n",
       "    </tr>\n",
       "    <tr>\n",
       "      <th>5</th>\n",
       "      <td>Other</td>\n",
       "      <td>3785</td>\n",
       "      <td>0.01</td>\n",
       "    </tr>\n",
       "    <tr>\n",
       "      <th>6</th>\n",
       "      <td>Impact</td>\n",
       "      <td>239</td>\n",
       "      <td>0.00</td>\n",
       "    </tr>\n",
       "  </tbody>\n",
       "</table>\n",
       "</div>"
      ],
      "text/plain": [
       "           Tactics  words_x_tactic  %_over_corpus\n",
       "0        Discovery        22865169          81.22\n",
       "1      Persistence         3363033          11.95\n",
       "2        Execution         1771002           6.29\n",
       "3  Defense Evasion          138774           0.49\n",
       "4         Harmless            8952           0.03\n",
       "5            Other            3785           0.01\n",
       "6           Impact             239           0.00"
      ]
     },
     "metadata": {},
     "output_type": "display_data"
    }
   ],
   "source": [
    "tot_words = exploded_df.shape[0]\n",
    "words_per_tactics = exploded_df.value_counts(\"sequence_predictions\").reset_index(name=\"words_x_tactic\").rename({\"sequence_predictions\":\"Tactics\"}, axis=1)\n",
    "words_per_tactics[\"%_over_corpus\"] = words_per_tactics.words_x_tactic.apply(lambda el: round(el/tot_words*100,2))\n",
    "print(f\"There are {tot_words:,} Unix words in the dataset ({exploded_df.sequence_words.nunique():,} unique)\")\n",
    "display(words_per_tactics)"
   ]
  },
  {
   "cell_type": "markdown",
   "id": "5edaec72-81da-4e3b-8133-d9bb68bc2662",
   "metadata": {},
   "source": [
    "## Words vs Tactics\n",
    "***"
   ]
  },
  {
   "cell_type": "markdown",
   "id": "a5c6d8ae-c30d-4f7d-a2ff-e8f576b7af80",
   "metadata": {},
   "source": [
    "##### Now, visualize prediction for TOP10 words\n",
    "Idea is to focus on 1st session (in time) per fingerprint. \n",
    "\n",
    "This is done to avoid being too influenced by very similar and frequent sessions (more fair wrt rarer sessions).\n",
    "\n",
    "**Notice**: message would be valid also with all sessions, but analysis would change wrt paper (we should consider other commands)."
   ]
  },
  {
   "cell_type": "markdown",
   "id": "7d8c4f8b",
   "metadata": {},
   "source": [
    "Select oldest session per fingerprint among available"
   ]
  },
  {
   "cell_type": "code",
   "execution_count": 7,
   "id": "4248c072",
   "metadata": {},
   "outputs": [
    {
     "data": {
      "text/html": [
       "<div>\n",
       "<style scoped>\n",
       "    .dataframe tbody tr th:only-of-type {\n",
       "        vertical-align: middle;\n",
       "    }\n",
       "\n",
       "    .dataframe tbody tr th {\n",
       "        vertical-align: top;\n",
       "    }\n",
       "\n",
       "    .dataframe thead th {\n",
       "        text-align: right;\n",
       "    }\n",
       "</style>\n",
       "<table border=\"1\" class=\"dataframe\">\n",
       "  <thead>\n",
       "    <tr style=\"text-align: right;\">\n",
       "      <th></th>\n",
       "      <th>session_id</th>\n",
       "      <th>first_timestamp</th>\n",
       "      <th>sensor</th>\n",
       "      <th>date</th>\n",
       "      <th>sequence_words</th>\n",
       "      <th>sequence_predictions</th>\n",
       "      <th>fingerprint</th>\n",
       "    </tr>\n",
       "  </thead>\n",
       "  <tbody>\n",
       "    <tr>\n",
       "      <th>0</th>\n",
       "      <td>0</td>\n",
       "      <td>2019-06-04 09:45:11.151186+00:00</td>\n",
       "      <td>eea5dc653b37</td>\n",
       "      <td>2019-06-04</td>\n",
       "      <td>[enable, ;, system, ;, shell, ;, sh, ;, cat, /...</td>\n",
       "      <td>[Discovery, Discovery, Discovery, Discovery, D...</td>\n",
       "      <td>Discovery -- Discovery -- Discovery -- Discove...</td>\n",
       "    </tr>\n",
       "    <tr>\n",
       "      <th>59</th>\n",
       "      <td>59</td>\n",
       "      <td>2019-06-04 19:26:26.930419+00:00</td>\n",
       "      <td>eea5dc653b37</td>\n",
       "      <td>2019-06-04</td>\n",
       "      <td>[enable, ;, system, ;, shell, ;, sh, ;, cat, /...</td>\n",
       "      <td>[Discovery, Discovery, Discovery, Discovery, D...</td>\n",
       "      <td>Discovery -- Discovery -- Discovery -- Discove...</td>\n",
       "    </tr>\n",
       "  </tbody>\n",
       "</table>\n",
       "</div>"
      ],
      "text/plain": [
       "    session_id                   first_timestamp        sensor        date  \\\n",
       "0            0  2019-06-04 09:45:11.151186+00:00  eea5dc653b37  2019-06-04   \n",
       "59          59  2019-06-04 19:26:26.930419+00:00  eea5dc653b37  2019-06-04   \n",
       "\n",
       "                                       sequence_words  \\\n",
       "0   [enable, ;, system, ;, shell, ;, sh, ;, cat, /...   \n",
       "59  [enable, ;, system, ;, shell, ;, sh, ;, cat, /...   \n",
       "\n",
       "                                 sequence_predictions  \\\n",
       "0   [Discovery, Discovery, Discovery, Discovery, D...   \n",
       "59  [Discovery, Discovery, Discovery, Discovery, D...   \n",
       "\n",
       "                                          fingerprint  \n",
       "0   Discovery -- Discovery -- Discovery -- Discove...  \n",
       "59  Discovery -- Discovery -- Discovery -- Discove...  "
      ]
     },
     "execution_count": 7,
     "metadata": {},
     "output_type": "execute_result"
    }
   ],
   "source": [
    "joined_corpus[\"fingerprint\"] = joined_corpus[\"sequence_predictions\"].apply(lambda predictions: \" -- \".join(predictions))\n",
    "unique_corpus = joined_corpus.sort_values(by = \"date\").drop_duplicates(\"fingerprint\")\n",
    "unique_corpus.head(2)"
   ]
  },
  {
   "cell_type": "markdown",
   "id": "be51a9fd",
   "metadata": {},
   "source": [
    "Now, explode commands and compute the words occurrences"
   ]
  },
  {
   "cell_type": "code",
   "execution_count": 8,
   "id": "8b5d9860-5116-4fe2-a8a3-9efa1e3a923a",
   "metadata": {},
   "outputs": [
    {
     "data": {
      "text/html": [
       "<div>\n",
       "<style scoped>\n",
       "    .dataframe tbody tr th:only-of-type {\n",
       "        vertical-align: middle;\n",
       "    }\n",
       "\n",
       "    .dataframe tbody tr th {\n",
       "        vertical-align: top;\n",
       "    }\n",
       "\n",
       "    .dataframe thead th {\n",
       "        text-align: right;\n",
       "    }\n",
       "</style>\n",
       "<table border=\"1\" class=\"dataframe\">\n",
       "  <thead>\n",
       "    <tr style=\"text-align: right;\">\n",
       "      <th></th>\n",
       "      <th>Unix_command</th>\n",
       "      <th>words_occurrences</th>\n",
       "    </tr>\n",
       "  </thead>\n",
       "  <tbody>\n",
       "    <tr>\n",
       "      <th>0</th>\n",
       "      <td>;</td>\n",
       "      <td>5097003</td>\n",
       "    </tr>\n",
       "    <tr>\n",
       "      <th>1</th>\n",
       "      <td>|</td>\n",
       "      <td>3277051</td>\n",
       "    </tr>\n",
       "  </tbody>\n",
       "</table>\n",
       "</div>"
      ],
      "text/plain": [
       "  Unix_command  words_occurrences\n",
       "0            ;            5097003\n",
       "1            |            3277051"
      ]
     },
     "execution_count": 8,
     "metadata": {},
     "output_type": "execute_result"
    }
   ],
   "source": [
    "words_occurrences = exploded_df.value_counts(\"sequence_words\").reset_index(name=\"words_occurrences\").rename({\"sequence_words\":\"Unix_command\"}, axis=1)\n",
    "words_occurrences.head(2)"
   ]
  },
  {
   "cell_type": "markdown",
   "id": "8114ef77-1dfd-44f8-8e16-afde14872c11",
   "metadata": {},
   "source": [
    "Focus on (most frequent) words reported in the paper (figure 8)"
   ]
  },
  {
   "cell_type": "code",
   "execution_count": 9,
   "id": "28ba85fe-42dd-481c-b241-7c4011b1a025",
   "metadata": {},
   "outputs": [
    {
     "data": {
      "text/html": [
       "<div>\n",
       "<style scoped>\n",
       "    .dataframe tbody tr th:only-of-type {\n",
       "        vertical-align: middle;\n",
       "    }\n",
       "\n",
       "    .dataframe tbody tr th {\n",
       "        vertical-align: top;\n",
       "    }\n",
       "\n",
       "    .dataframe thead th {\n",
       "        text-align: right;\n",
       "    }\n",
       "</style>\n",
       "<table border=\"1\" class=\"dataframe\">\n",
       "  <thead>\n",
       "    <tr style=\"text-align: right;\">\n",
       "      <th></th>\n",
       "      <th>Unix_command</th>\n",
       "      <th>prediction</th>\n",
       "      <th>word_counter</th>\n",
       "    </tr>\n",
       "  </thead>\n",
       "  <tbody>\n",
       "    <tr>\n",
       "      <th>0</th>\n",
       "      <td>sh</td>\n",
       "      <td>Discovery</td>\n",
       "      <td>1</td>\n",
       "    </tr>\n",
       "    <tr>\n",
       "      <th>0</th>\n",
       "      <td>cat</td>\n",
       "      <td>Discovery</td>\n",
       "      <td>1</td>\n",
       "    </tr>\n",
       "  </tbody>\n",
       "</table>\n",
       "</div>"
      ],
      "text/plain": [
       "  Unix_command prediction  word_counter\n",
       "0           sh  Discovery             1\n",
       "0          cat  Discovery             1"
      ]
     },
     "execution_count": 9,
     "metadata": {},
     "output_type": "execute_result"
    }
   ],
   "source": [
    "figure_commands = [\"grep\", \".ssh\", \"cat\", \"passwd\", \"wget\", \"/bin/busybox\", \n",
    "                    \"chmod\", \"bash\", \"mkdir\", \"sh\", \"echo\", \"cd\", \"rm\"]\n",
    "filtered_commands = exploded_df[exploded_df.sequence_words.isin(figure_commands)]\n",
    "filtered_commands = filtered_commands[[\"sequence_words\", \"sequence_predictions\"]]\\\n",
    "                                .rename({\"sequence_words\":\"Unix_command\", \"sequence_predictions\":\"prediction\"}, axis=1)\n",
    "filtered_commands[\"word_counter\"] = 1 #useful for following pivot table\n",
    "filtered_commands.head(2)"
   ]
  },
  {
   "cell_type": "markdown",
   "id": "e92b99eb",
   "metadata": {},
   "source": [
    "Pivot table commands vs tattics"
   ]
  },
  {
   "cell_type": "code",
   "execution_count": 10,
   "id": "e9d84ae7-06d7-46e4-85dd-24eccdf654b2",
   "metadata": {},
   "outputs": [
    {
     "data": {
      "text/html": [
       "<div>\n",
       "<style scoped>\n",
       "    .dataframe tbody tr th:only-of-type {\n",
       "        vertical-align: middle;\n",
       "    }\n",
       "\n",
       "    .dataframe tbody tr th {\n",
       "        vertical-align: top;\n",
       "    }\n",
       "\n",
       "    .dataframe thead th {\n",
       "        text-align: right;\n",
       "    }\n",
       "</style>\n",
       "<table border=\"1\" class=\"dataframe\">\n",
       "  <thead>\n",
       "    <tr style=\"text-align: right;\">\n",
       "      <th>Unix_command</th>\n",
       "      <th>grep</th>\n",
       "      <th>.ssh</th>\n",
       "      <th>cat</th>\n",
       "      <th>passwd</th>\n",
       "      <th>wget</th>\n",
       "      <th>/bin/busybox</th>\n",
       "      <th>chmod</th>\n",
       "      <th>bash</th>\n",
       "      <th>mkdir</th>\n",
       "      <th>sh</th>\n",
       "      <th>echo</th>\n",
       "      <th>cd</th>\n",
       "      <th>rm</th>\n",
       "    </tr>\n",
       "    <tr>\n",
       "      <th>prediction</th>\n",
       "      <th></th>\n",
       "      <th></th>\n",
       "      <th></th>\n",
       "      <th></th>\n",
       "      <th></th>\n",
       "      <th></th>\n",
       "      <th></th>\n",
       "      <th></th>\n",
       "      <th></th>\n",
       "      <th></th>\n",
       "      <th></th>\n",
       "      <th></th>\n",
       "      <th></th>\n",
       "    </tr>\n",
       "  </thead>\n",
       "  <tbody>\n",
       "    <tr>\n",
       "      <th>Defense Evasion</th>\n",
       "      <td>NaN</td>\n",
       "      <td>NaN</td>\n",
       "      <td>NaN</td>\n",
       "      <td>NaN</td>\n",
       "      <td>NaN</td>\n",
       "      <td>0.133289</td>\n",
       "      <td>NaN</td>\n",
       "      <td>NaN</td>\n",
       "      <td>0.000163</td>\n",
       "      <td>0.000879</td>\n",
       "      <td>NaN</td>\n",
       "      <td>0.000182</td>\n",
       "      <td>0.046316</td>\n",
       "    </tr>\n",
       "    <tr>\n",
       "      <th>Discovery</th>\n",
       "      <td>9.996965e-01</td>\n",
       "      <td>0.000365</td>\n",
       "      <td>0.970204</td>\n",
       "      <td>0.021643</td>\n",
       "      <td>0.752429</td>\n",
       "      <td>0.737845</td>\n",
       "      <td>0.051278</td>\n",
       "      <td>0.000335</td>\n",
       "      <td>0.104102</td>\n",
       "      <td>0.623118</td>\n",
       "      <td>0.327630</td>\n",
       "      <td>0.143020</td>\n",
       "      <td>0.936450</td>\n",
       "    </tr>\n",
       "    <tr>\n",
       "      <th>Execution</th>\n",
       "      <td>7.821764e-07</td>\n",
       "      <td>0.000091</td>\n",
       "      <td>0.029794</td>\n",
       "      <td>0.000778</td>\n",
       "      <td>0.247145</td>\n",
       "      <td>0.128854</td>\n",
       "      <td>0.504990</td>\n",
       "      <td>0.300737</td>\n",
       "      <td>0.000981</td>\n",
       "      <td>0.375967</td>\n",
       "      <td>0.102050</td>\n",
       "      <td>0.769338</td>\n",
       "      <td>0.004643</td>\n",
       "    </tr>\n",
       "    <tr>\n",
       "      <th>Harmless</th>\n",
       "      <td>NaN</td>\n",
       "      <td>NaN</td>\n",
       "      <td>NaN</td>\n",
       "      <td>0.000598</td>\n",
       "      <td>0.000384</td>\n",
       "      <td>0.000012</td>\n",
       "      <td>NaN</td>\n",
       "      <td>0.000621</td>\n",
       "      <td>0.000490</td>\n",
       "      <td>0.000035</td>\n",
       "      <td>0.000921</td>\n",
       "      <td>0.000024</td>\n",
       "      <td>0.000004</td>\n",
       "    </tr>\n",
       "    <tr>\n",
       "      <th>Impact</th>\n",
       "      <td>NaN</td>\n",
       "      <td>0.000183</td>\n",
       "      <td>NaN</td>\n",
       "      <td>NaN</td>\n",
       "      <td>NaN</td>\n",
       "      <td>NaN</td>\n",
       "      <td>NaN</td>\n",
       "      <td>NaN</td>\n",
       "      <td>0.000490</td>\n",
       "      <td>NaN</td>\n",
       "      <td>NaN</td>\n",
       "      <td>0.000024</td>\n",
       "      <td>0.000013</td>\n",
       "    </tr>\n",
       "    <tr>\n",
       "      <th>Other</th>\n",
       "      <td>NaN</td>\n",
       "      <td>NaN</td>\n",
       "      <td>NaN</td>\n",
       "      <td>NaN</td>\n",
       "      <td>0.000043</td>\n",
       "      <td>NaN</td>\n",
       "      <td>NaN</td>\n",
       "      <td>NaN</td>\n",
       "      <td>NaN</td>\n",
       "      <td>NaN</td>\n",
       "      <td>0.000327</td>\n",
       "      <td>0.000981</td>\n",
       "      <td>NaN</td>\n",
       "    </tr>\n",
       "    <tr>\n",
       "      <th>Persistence</th>\n",
       "      <td>3.027023e-04</td>\n",
       "      <td>0.999360</td>\n",
       "      <td>0.000003</td>\n",
       "      <td>0.976981</td>\n",
       "      <td>NaN</td>\n",
       "      <td>NaN</td>\n",
       "      <td>0.443732</td>\n",
       "      <td>0.698307</td>\n",
       "      <td>0.893773</td>\n",
       "      <td>NaN</td>\n",
       "      <td>0.569072</td>\n",
       "      <td>0.086432</td>\n",
       "      <td>0.012574</td>\n",
       "    </tr>\n",
       "  </tbody>\n",
       "</table>\n",
       "</div>"
      ],
      "text/plain": [
       "Unix_command             grep      .ssh       cat    passwd      wget  \\\n",
       "prediction                                                              \n",
       "Defense Evasion           NaN       NaN       NaN       NaN       NaN   \n",
       "Discovery        9.996965e-01  0.000365  0.970204  0.021643  0.752429   \n",
       "Execution        7.821764e-07  0.000091  0.029794  0.000778  0.247145   \n",
       "Harmless                  NaN       NaN       NaN  0.000598  0.000384   \n",
       "Impact                    NaN  0.000183       NaN       NaN       NaN   \n",
       "Other                     NaN       NaN       NaN       NaN  0.000043   \n",
       "Persistence      3.027023e-04  0.999360  0.000003  0.976981       NaN   \n",
       "\n",
       "Unix_command     /bin/busybox     chmod      bash     mkdir        sh  \\\n",
       "prediction                                                              \n",
       "Defense Evasion      0.133289       NaN       NaN  0.000163  0.000879   \n",
       "Discovery            0.737845  0.051278  0.000335  0.104102  0.623118   \n",
       "Execution            0.128854  0.504990  0.300737  0.000981  0.375967   \n",
       "Harmless             0.000012       NaN  0.000621  0.000490  0.000035   \n",
       "Impact                    NaN       NaN       NaN  0.000490       NaN   \n",
       "Other                     NaN       NaN       NaN       NaN       NaN   \n",
       "Persistence               NaN  0.443732  0.698307  0.893773       NaN   \n",
       "\n",
       "Unix_command         echo        cd        rm  \n",
       "prediction                                     \n",
       "Defense Evasion       NaN  0.000182  0.046316  \n",
       "Discovery        0.327630  0.143020  0.936450  \n",
       "Execution        0.102050  0.769338  0.004643  \n",
       "Harmless         0.000921  0.000024  0.000004  \n",
       "Impact                NaN  0.000024  0.000013  \n",
       "Other            0.000327  0.000981       NaN  \n",
       "Persistence      0.569072  0.086432  0.012574  "
      ]
     },
     "execution_count": 10,
     "metadata": {},
     "output_type": "execute_result"
    }
   ],
   "source": [
    "#filtered_commands.groupby(\"Unix_command\").\n",
    "table = pd.pivot_table(filtered_commands, values=\"word_counter\", columns=['Unix_command'], index=['prediction'], aggfunc=\"sum\")\n",
    "table = table[figure_commands]/table[figure_commands].sum(axis=0) #Reorder columns as in paper and normalize column-wise\n",
    "table"
   ]
  },
  {
   "cell_type": "markdown",
   "id": "019f68bc",
   "metadata": {},
   "source": [
    "### Equivalent of Figure 8 in the paper (dataset there was POLITO)"
   ]
  },
  {
   "cell_type": "code",
   "execution_count": 11,
   "id": "941a5edd-818d-4c66-9346-b650828752a6",
   "metadata": {},
   "outputs": [
    {
     "data": {
      "image/png": "[encoded data removed]",
      "text/plain": [
       "<Figure size 1700x600 with 2 Axes>"
      ]
     },
     "metadata": {},
     "output_type": "display_data"
    }
   ],
   "source": [
    "import matplotlib.pyplot as plt\n",
    "import seaborn as sns\n",
    "fig, axs = plt.subplots(1, figsize =(17, 6))\n",
    "fontsize = 10\n",
    "table = table.fillna(0)\n",
    "palette = sns.color_palette(\"light:orangered\", as_cmap=True)\n",
    "\n",
    "im = sns.heatmap(table, linewidth = 0.1, cmap=palette, ax = axs, \n",
    "                annot = True, annot_kws={\"fontsize\":fontsize}, fmt='.2f', \n",
    "                cbar_kws={\"orientation\": \"horizontal\", \"location\":\"top\"})\n",
    "axs.set_xticklabels(table.columns, fontsize = fontsize + 2, rotation = 90)\n",
    "axs.set_yticklabels(table.index, fontsize = fontsize + 2, rotation = 0)\n",
    "cbar = axs.collections[0].colorbar\n",
    "cbar.ax.tick_params(labelsize=fontsize)\n",
    "plt.tight_layout()"
   ]
  }
 ],
 "metadata": {
  "kernelspec": {
   "display_name": "Python 3 (ipykernel)",
   "language": "python",
   "name": "python3"
  },
  "language_info": {
   "codemirror_mode": {
    "name": "ipython",
    "version": 3
   },
   "file_extension": ".py",
   "mimetype": "text/x-python",
   "name": "python",
   "nbconvert_exporter": "python",
   "pygments_lexer": "ipython3",
   "version": "3.10.9"
  }
 },
 "nbformat": 4,
 "nbformat_minor": 5
}
