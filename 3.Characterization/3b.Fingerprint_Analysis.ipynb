{
 "cells": [
  {
   "cell_type": "markdown",
   "id": "776353ce-ac75-4ee2-86a6-7b2bb2faf02f",
   "metadata": {},
   "source": [
    "# This notebook completes a phase of characterization of the tactics and investigates the fingerprints\n",
    "## (Figures 9 and 13 of the paper) "
   ]
  },
  {
   "cell_type": "markdown",
   "id": "69353b8a",
   "metadata": {},
   "source": [
    "### Characterization"
   ]
  },
  {
   "cell_type": "markdown",
   "id": "aed4276a",
   "metadata": {},
   "source": [
    "Import dataset"
   ]
  },
  {
   "cell_type": "code",
   "execution_count": 1,
   "id": "8f7c10d2",
   "metadata": {},
   "outputs": [
    {
     "data": {
      "text/html": [
       "<div>\n",
       "<style scoped>\n",
       "    .dataframe tbody tr th:only-of-type {\n",
       "        vertical-align: middle;\n",
       "    }\n",
       "\n",
       "    .dataframe tbody tr th {\n",
       "        vertical-align: top;\n",
       "    }\n",
       "\n",
       "    .dataframe thead th {\n",
       "        text-align: right;\n",
       "    }\n",
       "</style>\n",
       "<table border=\"1\" class=\"dataframe\">\n",
       "  <thead>\n",
       "    <tr style=\"text-align: right;\">\n",
       "      <th></th>\n",
       "      <th>session_id</th>\n",
       "      <th>sequence_words</th>\n",
       "      <th>sequence_predictions</th>\n",
       "    </tr>\n",
       "  </thead>\n",
       "  <tbody>\n",
       "    <tr>\n",
       "      <th>0</th>\n",
       "      <td>0</td>\n",
       "      <td>[enable, ;, system, ;, shell, ;, sh, ;, cat, /...</td>\n",
       "      <td>[Discovery, Discovery, Discovery, Discovery, D...</td>\n",
       "    </tr>\n",
       "    <tr>\n",
       "      <th>1</th>\n",
       "      <td>1</td>\n",
       "      <td>[enable, ;, system, ;, shell, ;, sh, ;, cat, /...</td>\n",
       "      <td>[Discovery, Discovery, Discovery, Discovery, D...</td>\n",
       "    </tr>\n",
       "  </tbody>\n",
       "</table>\n",
       "</div>"
      ],
      "text/plain": [
       "   session_id                                     sequence_words  \\\n",
       "0           0  [enable, ;, system, ;, shell, ;, sh, ;, cat, /...   \n",
       "1           1  [enable, ;, system, ;, shell, ;, sh, ;, cat, /...   \n",
       "\n",
       "                                sequence_predictions  \n",
       "0  [Discovery, Discovery, Discovery, Discovery, D...  \n",
       "1  [Discovery, Discovery, Discovery, Discovery, D...  "
      ]
     },
     "execution_count": 1,
     "metadata": {},
     "output_type": "execute_result"
    }
   ],
   "source": [
    "from tqdm import tqdm\n",
    "tqdm.pandas()\n",
    "import pandas as pd \n",
    "predicted_corpus = pd.read_parquet(f\"../1.Dataset/Inference_with_predictions/logprecis_predictions.parquet\")\n",
    "predicted_corpus.head(2)"
   ]
  },
  {
   "cell_type": "markdown",
   "id": "200ebe30",
   "metadata": {},
   "source": [
    "Concatenate `sequence words` and `sequence_predictions`"
   ]
  },
  {
   "cell_type": "code",
   "execution_count": 2,
   "id": "418e6a1b",
   "metadata": {},
   "outputs": [
    {
     "name": "stderr",
     "output_type": "stream",
     "text": [
      "100%|██████████| 233035/233035 [00:01<00:00, 133242.97it/s]\n",
      "100%|██████████| 233035/233035 [00:01<00:00, 149936.67it/s]\n"
     ]
    },
    {
     "name": "stdout",
     "output_type": "stream",
     "text": [
      "Corpus contains 233,035 sessions (233,035 unique)\n",
      "Furthermore, corpus contains 1673 unique fingerprints\n"
     ]
    },
    {
     "data": {
      "text/html": [
       "<div>\n",
       "<style scoped>\n",
       "    .dataframe tbody tr th:only-of-type {\n",
       "        vertical-align: middle;\n",
       "    }\n",
       "\n",
       "    .dataframe tbody tr th {\n",
       "        vertical-align: top;\n",
       "    }\n",
       "\n",
       "    .dataframe thead th {\n",
       "        text-align: right;\n",
       "    }\n",
       "</style>\n",
       "<table border=\"1\" class=\"dataframe\">\n",
       "  <thead>\n",
       "    <tr style=\"text-align: right;\">\n",
       "      <th></th>\n",
       "      <th>session_id</th>\n",
       "      <th>sequence_words</th>\n",
       "      <th>sequence_predictions</th>\n",
       "      <th>sessions</th>\n",
       "      <th>predictions</th>\n",
       "    </tr>\n",
       "  </thead>\n",
       "  <tbody>\n",
       "    <tr>\n",
       "      <th>0</th>\n",
       "      <td>0</td>\n",
       "      <td>[enable, ;, system, ;, shell, ;, sh, ;, cat, /...</td>\n",
       "      <td>[Discovery, Discovery, Discovery, Discovery, D...</td>\n",
       "      <td>enable ; system ; shell ; sh ; cat /proc/mount...</td>\n",
       "      <td>Discovery -- Discovery -- Discovery -- Discove...</td>\n",
       "    </tr>\n",
       "    <tr>\n",
       "      <th>1</th>\n",
       "      <td>1</td>\n",
       "      <td>[enable, ;, system, ;, shell, ;, sh, ;, cat, /...</td>\n",
       "      <td>[Discovery, Discovery, Discovery, Discovery, D...</td>\n",
       "      <td>enable ; system ; shell ; sh ; cat /proc/mount...</td>\n",
       "      <td>Discovery -- Discovery -- Discovery -- Discove...</td>\n",
       "    </tr>\n",
       "  </tbody>\n",
       "</table>\n",
       "</div>"
      ],
      "text/plain": [
       "   session_id                                     sequence_words  \\\n",
       "0           0  [enable, ;, system, ;, shell, ;, sh, ;, cat, /...   \n",
       "1           1  [enable, ;, system, ;, shell, ;, sh, ;, cat, /...   \n",
       "\n",
       "                                sequence_predictions  \\\n",
       "0  [Discovery, Discovery, Discovery, Discovery, D...   \n",
       "1  [Discovery, Discovery, Discovery, Discovery, D...   \n",
       "\n",
       "                                            sessions  \\\n",
       "0  enable ; system ; shell ; sh ; cat /proc/mount...   \n",
       "1  enable ; system ; shell ; sh ; cat /proc/mount...   \n",
       "\n",
       "                                         predictions  \n",
       "0  Discovery -- Discovery -- Discovery -- Discove...  \n",
       "1  Discovery -- Discovery -- Discovery -- Discove...  "
      ]
     },
     "execution_count": 2,
     "metadata": {},
     "output_type": "execute_result"
    }
   ],
   "source": [
    "predicted_corpus[\"sessions\"] = predicted_corpus[\"sequence_words\"].progress_apply(\n",
    "                                                lambda split_session: \" \".join(split_session))\n",
    "predicted_corpus[\"predictions\"] = predicted_corpus[\"sequence_predictions\"].progress_apply(\n",
    "                                                lambda split_prediction: \" -- \".join(split_prediction))\n",
    "print(f\"Corpus contains {predicted_corpus.shape[0]:,} sessions ({predicted_corpus.sessions.nunique():,} unique)\")\n",
    "print(f\"Furthermore, corpus contains {predicted_corpus.predictions.nunique()} unique fingerprints\")\n",
    "predicted_corpus.head(2)"
   ]
  },
  {
   "cell_type": "code",
   "execution_count": 3,
   "id": "13b0c455-13e3-43b3-8eee-17b490a73502",
   "metadata": {},
   "outputs": [
    {
     "name": "stdout",
     "output_type": "stream",
     "text": [
      "Server update occurred in 2019-11-08\n"
     ]
    }
   ],
   "source": [
    "from datetime import datetime\n",
    "THRESHOLD_UPDATE = \"08/11/2019\"\n",
    "server_update_date = datetime.strptime(THRESHOLD_UPDATE, '%d/%m/%Y').date()\n",
    "server_update_datetime = datetime.strptime(THRESHOLD_UPDATE, '%d/%m/%Y')\n",
    "\n",
    "print(f\"Server update occurred in {server_update_date}\")"
   ]
  },
  {
   "cell_type": "markdown",
   "id": "1159c5c9",
   "metadata": {},
   "source": [
    "Load original data"
   ]
  },
  {
   "cell_type": "code",
   "execution_count": 4,
   "id": "237bf5d5",
   "metadata": {},
   "outputs": [
    {
     "data": {
      "text/html": [
       "<div>\n",
       "<style scoped>\n",
       "    .dataframe tbody tr th:only-of-type {\n",
       "        vertical-align: middle;\n",
       "    }\n",
       "\n",
       "    .dataframe tbody tr th {\n",
       "        vertical-align: top;\n",
       "    }\n",
       "\n",
       "    .dataframe thead th {\n",
       "        text-align: right;\n",
       "    }\n",
       "</style>\n",
       "<table border=\"1\" class=\"dataframe\">\n",
       "  <thead>\n",
       "    <tr style=\"text-align: right;\">\n",
       "      <th></th>\n",
       "      <th>session_id</th>\n",
       "      <th>session</th>\n",
       "      <th>sensor</th>\n",
       "      <th>first_timestamp</th>\n",
       "      <th>date</th>\n",
       "    </tr>\n",
       "  </thead>\n",
       "  <tbody>\n",
       "    <tr>\n",
       "      <th>0</th>\n",
       "      <td>0</td>\n",
       "      <td>enable ; system ; shell ; sh ; cat /proc/mount...</td>\n",
       "      <td>eea5dc653b37</td>\n",
       "      <td>2019-06-04 09:45:11.151186+00:00</td>\n",
       "      <td>2019-06-04</td>\n",
       "    </tr>\n",
       "    <tr>\n",
       "      <th>1</th>\n",
       "      <td>1</td>\n",
       "      <td>enable ; system ; shell ; sh ; cat /proc/mount...</td>\n",
       "      <td>eea5dc653b37</td>\n",
       "      <td>2019-06-04 09:45:50.396610+00:00</td>\n",
       "      <td>2019-06-04</td>\n",
       "    </tr>\n",
       "  </tbody>\n",
       "</table>\n",
       "</div>"
      ],
      "text/plain": [
       "   session_id                                            session  \\\n",
       "0           0  enable ; system ; shell ; sh ; cat /proc/mount...   \n",
       "1           1  enable ; system ; shell ; sh ; cat /proc/mount...   \n",
       "\n",
       "         sensor                   first_timestamp        date  \n",
       "0  eea5dc653b37  2019-06-04 09:45:11.151186+00:00  2019-06-04  \n",
       "1  eea5dc653b37  2019-06-04 09:45:50.396610+00:00  2019-06-04  "
      ]
     },
     "execution_count": 4,
     "metadata": {},
     "output_type": "execute_result"
    }
   ],
   "source": [
    "full_corpus = pd.read_csv(f\"../1.Dataset/Inference/cyberlab_data.csv\")\n",
    "if \"session_id\" in full_corpus.columns:\n",
    "    full_corpus = full_corpus.drop(\"session_id\", axis=1)\n",
    "full_corpus = full_corpus.reset_index().rename({\"index\":\"session_id\"}, axis=1)\n",
    "full_corpus.head(2)"
   ]
  },
  {
   "cell_type": "markdown",
   "id": "9c969de0",
   "metadata": {},
   "source": [
    "Join with predictions"
   ]
  },
  {
   "cell_type": "code",
   "execution_count": 5,
   "id": "6ced4e94",
   "metadata": {},
   "outputs": [
    {
     "data": {
      "text/html": [
       "<div>\n",
       "<style scoped>\n",
       "    .dataframe tbody tr th:only-of-type {\n",
       "        vertical-align: middle;\n",
       "    }\n",
       "\n",
       "    .dataframe tbody tr th {\n",
       "        vertical-align: top;\n",
       "    }\n",
       "\n",
       "    .dataframe thead th {\n",
       "        text-align: right;\n",
       "    }\n",
       "</style>\n",
       "<table border=\"1\" class=\"dataframe\">\n",
       "  <thead>\n",
       "    <tr style=\"text-align: right;\">\n",
       "      <th></th>\n",
       "      <th>session_id</th>\n",
       "      <th>first_timestamp</th>\n",
       "      <th>sensor</th>\n",
       "      <th>date</th>\n",
       "      <th>sessions</th>\n",
       "      <th>predictions</th>\n",
       "    </tr>\n",
       "  </thead>\n",
       "  <tbody>\n",
       "    <tr>\n",
       "      <th>0</th>\n",
       "      <td>0</td>\n",
       "      <td>2019-06-04 09:45:11.151186+00:00</td>\n",
       "      <td>eea5dc653b37</td>\n",
       "      <td>2019-06-04</td>\n",
       "      <td>enable ; system ; shell ; sh ; cat /proc/mount...</td>\n",
       "      <td>Discovery -- Discovery -- Discovery -- Discove...</td>\n",
       "    </tr>\n",
       "    <tr>\n",
       "      <th>1</th>\n",
       "      <td>1</td>\n",
       "      <td>2019-06-04 09:45:50.396610+00:00</td>\n",
       "      <td>eea5dc653b37</td>\n",
       "      <td>2019-06-04</td>\n",
       "      <td>enable ; system ; shell ; sh ; cat /proc/mount...</td>\n",
       "      <td>Discovery -- Discovery -- Discovery -- Discove...</td>\n",
       "    </tr>\n",
       "  </tbody>\n",
       "</table>\n",
       "</div>"
      ],
      "text/plain": [
       "   session_id                   first_timestamp        sensor        date  \\\n",
       "0           0  2019-06-04 09:45:11.151186+00:00  eea5dc653b37  2019-06-04   \n",
       "1           1  2019-06-04 09:45:50.396610+00:00  eea5dc653b37  2019-06-04   \n",
       "\n",
       "                                            sessions  \\\n",
       "0  enable ; system ; shell ; sh ; cat /proc/mount...   \n",
       "1  enable ; system ; shell ; sh ; cat /proc/mount...   \n",
       "\n",
       "                                         predictions  \n",
       "0  Discovery -- Discovery -- Discovery -- Discove...  \n",
       "1  Discovery -- Discovery -- Discovery -- Discove...  "
      ]
     },
     "execution_count": 5,
     "metadata": {},
     "output_type": "execute_result"
    }
   ],
   "source": [
    "joined_corpus = full_corpus[[\"session_id\", \"first_timestamp\", \"sensor\", \"date\"]].merge(predicted_corpus[[\"session_id\", \"sessions\", \"predictions\"]], on=\"session_id\")\n",
    "joined_corpus.head(2)"
   ]
  },
  {
   "cell_type": "markdown",
   "id": "20d1033c",
   "metadata": {},
   "source": [
    "Create date attribute"
   ]
  },
  {
   "cell_type": "code",
   "execution_count": 6,
   "id": "c93f5cb0",
   "metadata": {},
   "outputs": [
    {
     "data": {
      "text/html": [
       "<div>\n",
       "<style scoped>\n",
       "    .dataframe tbody tr th:only-of-type {\n",
       "        vertical-align: middle;\n",
       "    }\n",
       "\n",
       "    .dataframe tbody tr th {\n",
       "        vertical-align: top;\n",
       "    }\n",
       "\n",
       "    .dataframe thead th {\n",
       "        text-align: right;\n",
       "    }\n",
       "</style>\n",
       "<table border=\"1\" class=\"dataframe\">\n",
       "  <thead>\n",
       "    <tr style=\"text-align: right;\">\n",
       "      <th></th>\n",
       "      <th>session_id</th>\n",
       "      <th>first_timestamp</th>\n",
       "      <th>sensor</th>\n",
       "      <th>date</th>\n",
       "      <th>sessions</th>\n",
       "      <th>predictions</th>\n",
       "    </tr>\n",
       "  </thead>\n",
       "  <tbody>\n",
       "    <tr>\n",
       "      <th>0</th>\n",
       "      <td>0</td>\n",
       "      <td>2019-06-04 09:45:11.151186+00:00</td>\n",
       "      <td>eea5dc653b37</td>\n",
       "      <td>2019-06-04</td>\n",
       "      <td>enable ; system ; shell ; sh ; cat /proc/mount...</td>\n",
       "      <td>Discovery -- Discovery -- Discovery -- Discove...</td>\n",
       "    </tr>\n",
       "    <tr>\n",
       "      <th>1</th>\n",
       "      <td>1</td>\n",
       "      <td>2019-06-04 09:45:50.396610+00:00</td>\n",
       "      <td>eea5dc653b37</td>\n",
       "      <td>2019-06-04</td>\n",
       "      <td>enable ; system ; shell ; sh ; cat /proc/mount...</td>\n",
       "      <td>Discovery -- Discovery -- Discovery -- Discove...</td>\n",
       "    </tr>\n",
       "  </tbody>\n",
       "</table>\n",
       "</div>"
      ],
      "text/plain": [
       "   session_id                  first_timestamp        sensor        date  \\\n",
       "0           0 2019-06-04 09:45:11.151186+00:00  eea5dc653b37  2019-06-04   \n",
       "1           1 2019-06-04 09:45:50.396610+00:00  eea5dc653b37  2019-06-04   \n",
       "\n",
       "                                            sessions  \\\n",
       "0  enable ; system ; shell ; sh ; cat /proc/mount...   \n",
       "1  enable ; system ; shell ; sh ; cat /proc/mount...   \n",
       "\n",
       "                                         predictions  \n",
       "0  Discovery -- Discovery -- Discovery -- Discove...  \n",
       "1  Discovery -- Discovery -- Discovery -- Discove...  "
      ]
     },
     "execution_count": 6,
     "metadata": {},
     "output_type": "execute_result"
    }
   ],
   "source": [
    "joined_corpus[\"first_timestamp\"] = pd.to_datetime(joined_corpus[\"first_timestamp\"])\n",
    "joined_corpus[\"date\"] = joined_corpus[\"first_timestamp\"].apply(lambda datetime: datetime.date())\n",
    "joined_corpus.head(2)"
   ]
  },
  {
   "cell_type": "markdown",
   "id": "dd41f875-dbc5-4ef3-8d7c-313b7bf87258",
   "metadata": {},
   "source": [
    "Plot distribution of intents over time"
   ]
  },
  {
   "cell_type": "code",
   "execution_count": 7,
   "id": "be0f2a5c-5439-42d3-9748-827b8b8c8762",
   "metadata": {},
   "outputs": [
    {
     "name": "stdout",
     "output_type": "stream",
     "text": [
      "Exploded dataset contains 28150954 rows and 3 columns\n"
     ]
    },
    {
     "data": {
      "text/html": [
       "<div>\n",
       "<style scoped>\n",
       "    .dataframe tbody tr th:only-of-type {\n",
       "        vertical-align: middle;\n",
       "    }\n",
       "\n",
       "    .dataframe tbody tr th {\n",
       "        vertical-align: top;\n",
       "    }\n",
       "\n",
       "    .dataframe thead th {\n",
       "        text-align: right;\n",
       "    }\n",
       "</style>\n",
       "<table border=\"1\" class=\"dataframe\">\n",
       "  <thead>\n",
       "    <tr style=\"text-align: right;\">\n",
       "      <th></th>\n",
       "      <th>splitted_session</th>\n",
       "      <th>splitted_prediction</th>\n",
       "      <th>date</th>\n",
       "    </tr>\n",
       "  </thead>\n",
       "  <tbody>\n",
       "    <tr>\n",
       "      <th>0</th>\n",
       "      <td>enable</td>\n",
       "      <td>Discovery</td>\n",
       "      <td>2019-06-04</td>\n",
       "    </tr>\n",
       "    <tr>\n",
       "      <th>0</th>\n",
       "      <td>;</td>\n",
       "      <td>Discovery</td>\n",
       "      <td>2019-06-04</td>\n",
       "    </tr>\n",
       "  </tbody>\n",
       "</table>\n",
       "</div>"
      ],
      "text/plain": [
       "  splitted_session splitted_prediction        date\n",
       "0           enable           Discovery  2019-06-04\n",
       "0                ;           Discovery  2019-06-04"
      ]
     },
     "execution_count": 7,
     "metadata": {},
     "output_type": "execute_result"
    }
   ],
   "source": [
    "sessions_date_predictions = joined_corpus[[\"sessions\", \"predictions\", \"date\"]].copy()\n",
    "sessions_date_predictions[\"splitted_session\"] = sessions_date_predictions[\"sessions\"].apply(lambda session: session.split(\" \"))\n",
    "sessions_date_predictions[\"splitted_prediction\"] = sessions_date_predictions[\"predictions\"].apply(lambda predictions: predictions.split(\" -- \"))\n",
    "exploded_df = sessions_date_predictions[[\"splitted_session\", \"splitted_prediction\", \"date\"]].explode([\"splitted_session\", \"splitted_prediction\"])\n",
    "print(f\"Exploded dataset contains {exploded_df.shape[0]} rows and {exploded_df.shape[1]} columns\")\n",
    "exploded_df.head(2)"
   ]
  },
  {
   "cell_type": "markdown",
   "id": "14a4cbcf-b632-498e-9ac7-2352a1f30dfa",
   "metadata": {},
   "source": [
    "##### Groupby date"
   ]
  },
  {
   "cell_type": "code",
   "execution_count": 8,
   "id": "96d1d323-de43-4773-8e50-d04439f3b049",
   "metadata": {},
   "outputs": [
    {
     "data": {
      "text/html": [
       "<div>\n",
       "<style scoped>\n",
       "    .dataframe tbody tr th:only-of-type {\n",
       "        vertical-align: middle;\n",
       "    }\n",
       "\n",
       "    .dataframe tbody tr th {\n",
       "        vertical-align: top;\n",
       "    }\n",
       "\n",
       "    .dataframe thead th {\n",
       "        text-align: right;\n",
       "    }\n",
       "</style>\n",
       "<table border=\"1\" class=\"dataframe\">\n",
       "  <thead>\n",
       "    <tr style=\"text-align: right;\">\n",
       "      <th></th>\n",
       "      <th>date</th>\n",
       "      <th>splitted_prediction</th>\n",
       "      <th>daily_occurrences</th>\n",
       "    </tr>\n",
       "  </thead>\n",
       "  <tbody>\n",
       "    <tr>\n",
       "      <th>0</th>\n",
       "      <td>2019-06-04</td>\n",
       "      <td>Defense Evasion</td>\n",
       "      <td>660</td>\n",
       "    </tr>\n",
       "    <tr>\n",
       "      <th>1</th>\n",
       "      <td>2019-06-04</td>\n",
       "      <td>Discovery</td>\n",
       "      <td>4123</td>\n",
       "    </tr>\n",
       "    <tr>\n",
       "      <th>2</th>\n",
       "      <td>2019-06-04</td>\n",
       "      <td>Execution</td>\n",
       "      <td>1546</td>\n",
       "    </tr>\n",
       "    <tr>\n",
       "      <th>3</th>\n",
       "      <td>2019-06-05</td>\n",
       "      <td>Defense Evasion</td>\n",
       "      <td>802</td>\n",
       "    </tr>\n",
       "    <tr>\n",
       "      <th>4</th>\n",
       "      <td>2019-06-05</td>\n",
       "      <td>Discovery</td>\n",
       "      <td>6680</td>\n",
       "    </tr>\n",
       "  </tbody>\n",
       "</table>\n",
       "</div>"
      ],
      "text/plain": [
       "         date splitted_prediction  daily_occurrences\n",
       "0  2019-06-04     Defense Evasion                660\n",
       "1  2019-06-04           Discovery               4123\n",
       "2  2019-06-04           Execution               1546\n",
       "3  2019-06-05     Defense Evasion                802\n",
       "4  2019-06-05           Discovery               6680"
      ]
     },
     "execution_count": 8,
     "metadata": {},
     "output_type": "execute_result"
    }
   ],
   "source": [
    "occurrences_x_day = exploded_df.groupby([\"date\", \"splitted_prediction\"]).size().reset_index(name = \"daily_occurrences\")\n",
    "occurrences_x_day.head(5)"
   ]
  },
  {
   "cell_type": "markdown",
   "id": "26710076-2a8d-44e9-9cb7-343bd27f4dbf",
   "metadata": {},
   "source": [
    "Calculate CDF"
   ]
  },
  {
   "cell_type": "code",
   "execution_count": 9,
   "id": "4b7e0e4d-d9b9-4867-a270-5800589b14b8",
   "metadata": {},
   "outputs": [
    {
     "data": {
      "text/html": [
       "<div>\n",
       "<style scoped>\n",
       "    .dataframe tbody tr th:only-of-type {\n",
       "        vertical-align: middle;\n",
       "    }\n",
       "\n",
       "    .dataframe tbody tr th {\n",
       "        vertical-align: top;\n",
       "    }\n",
       "\n",
       "    .dataframe thead th {\n",
       "        text-align: right;\n",
       "    }\n",
       "</style>\n",
       "<table border=\"1\" class=\"dataframe\">\n",
       "  <thead>\n",
       "    <tr style=\"text-align: right;\">\n",
       "      <th></th>\n",
       "      <th>date</th>\n",
       "      <th>splitted_prediction</th>\n",
       "      <th>daily_occurrences</th>\n",
       "      <th>cumulative_occurrences</th>\n",
       "      <th>tot_occurrences</th>\n",
       "      <th>cdf</th>\n",
       "    </tr>\n",
       "  </thead>\n",
       "  <tbody>\n",
       "    <tr>\n",
       "      <th>0</th>\n",
       "      <td>2019-06-04</td>\n",
       "      <td>Defense Evasion</td>\n",
       "      <td>660</td>\n",
       "      <td>660</td>\n",
       "      <td>138537</td>\n",
       "      <td>0.004764</td>\n",
       "    </tr>\n",
       "    <tr>\n",
       "      <th>1</th>\n",
       "      <td>2019-06-05</td>\n",
       "      <td>Defense Evasion</td>\n",
       "      <td>802</td>\n",
       "      <td>1462</td>\n",
       "      <td>138537</td>\n",
       "      <td>0.010553</td>\n",
       "    </tr>\n",
       "  </tbody>\n",
       "</table>\n",
       "</div>"
      ],
      "text/plain": [
       "         date splitted_prediction  daily_occurrences  cumulative_occurrences  \\\n",
       "0  2019-06-04     Defense Evasion                660                     660   \n",
       "1  2019-06-05     Defense Evasion                802                    1462   \n",
       "\n",
       "   tot_occurrences       cdf  \n",
       "0           138537  0.004764  \n",
       "1           138537  0.010553  "
      ]
     },
     "execution_count": 9,
     "metadata": {},
     "output_type": "execute_result"
    }
   ],
   "source": [
    "occurrences_x_day[\"cumulative_occurrences\"] = occurrences_x_day.groupby(['splitted_prediction'])['daily_occurrences'].cumsum()\n",
    "occurrences_x_day = occurrences_x_day.merge(occurrences_x_day.groupby(\"splitted_prediction\")[\"daily_occurrences\"].sum().reset_index(name = \"tot_occurrences\"), on = \"splitted_prediction\")\n",
    "occurrences_x_day[\"cdf\"] = occurrences_x_day.apply(lambda row: row[\"cumulative_occurrences\"] / row[\"tot_occurrences\"], axis = 1)\n",
    "occurrences_x_day.head(2)"
   ]
  },
  {
   "cell_type": "markdown",
   "id": "4cba443c-9bf2-43df-ae5a-26392759a9ff",
   "metadata": {},
   "source": [
    "Create colors"
   ]
  },
  {
   "cell_type": "code",
   "execution_count": 10,
   "id": "ca39d873-b847-4965-9e0d-fe478579fb8d",
   "metadata": {},
   "outputs": [],
   "source": [
    "import seaborn as sns\n",
    "bars = occurrences_x_day.drop_duplicates(\"splitted_prediction\").sort_values(by = \"tot_occurrences\", ascending = False)\n",
    "palette = sns.color_palette(\"bright\", bars.splitted_prediction.nunique())\n",
    "role2color = {color:prediction for color, prediction in zip(bars.splitted_prediction.unique(), palette)}\n",
    "hex_role2color = {color:prediction for color, prediction in zip(bars.splitted_prediction.unique(), palette.as_hex())}"
   ]
  },
  {
   "cell_type": "markdown",
   "id": "5b6fabea-8ca1-42b3-9100-f7cae1fa9ea0",
   "metadata": {},
   "source": [
    "Fill missing dates with NaN"
   ]
  },
  {
   "cell_type": "code",
   "execution_count": 11,
   "id": "fb27ebd8-26c8-4b61-8b01-3aab4a0b04f2",
   "metadata": {},
   "outputs": [],
   "source": [
    "def plot_cdfs(cdf, dates):\n",
    "    cdf = cdf.copy().set_index(\"date\")\n",
    "    cdf.index = pd.DatetimeIndex(cdf.index)\n",
    "    cdf = cdf.reindex(dates, method = 'ffill') #Every prediction must be equally indexed: if no improvements that day, put last valid value\n",
    "    return cdf.asfreq('D')"
   ]
  },
  {
   "cell_type": "markdown",
   "id": "9e9a7c61-8869-40fd-8f82-43b39a0d6164",
   "metadata": {},
   "source": [
    "Plot"
   ]
  },
  {
   "cell_type": "code",
   "execution_count": 12,
   "id": "c6161878-d3a4-40fa-bac5-fe720610c571",
   "metadata": {},
   "outputs": [],
   "source": [
    "dates = occurrences_x_day.date.unique()"
   ]
  },
  {
   "cell_type": "code",
   "execution_count": 13,
   "id": "8e5addb2-742b-49f1-8e6b-5cc5cfc9f1d8",
   "metadata": {},
   "outputs": [
    {
     "data": {
      "image/png": "[encoded data removed]",
      "text/plain": [
       "<Figure size 1200x300 with 2 Axes>"
      ]
     },
     "metadata": {},
     "output_type": "display_data"
    }
   ],
   "source": [
    "import numpy as np\n",
    "import matplotlib.pyplot as plt\n",
    "import seaborn as sns\n",
    "fig, axs = plt.subplots(1,2, figsize =(12, 3))\n",
    "fontsize = 15\n",
    "#Axis 1\n",
    "sns.barplot(data=bars, x=\"tot_occurrences\", y =\"splitted_prediction\", hue = \"splitted_prediction\", dodge = False, palette = role2color, ax = axs[0])\n",
    "axs[0].legend_.remove()\n",
    "axs[0].set_xlabel('Occurrences', fontsize = fontsize)\n",
    "axs[0].set_ylabel(\"\")\n",
    "axs[0].set_xscale(\"log\")\n",
    "axs[0].xaxis.set_tick_params(labelsize=fontsize)\n",
    "axs[0].yaxis.set_tick_params(labelsize=fontsize)\n",
    "axs[0].grid()\n",
    "#Axis 2\n",
    "\n",
    "for role in occurrences_x_day.splitted_prediction.unique():\n",
    "    cdf = occurrences_x_day[occurrences_x_day.splitted_prediction == role][[\"date\", \"cdf\"]]\n",
    "    cdf = plot_cdfs(cdf, dates)\n",
    "    axs[1].plot(cdf.index, cdf.cdf, color = role2color[role], linewidth = 3)\n",
    "    \n",
    "#sns.lineplot(data=occurrences_x_day, x=\"date\", y =\"cdf\", hue = \"splitted_prediction\", palette = role2color, ax = axs[1], linewidth = 3)\n",
    "axs[1].vlines(server_update_date, 0, 1, label = \"Server update\", linewidth = 2, linestyle = \"dashed\", color = \"firebrick\")\n",
    "axs[1].set_xlabel('Date', fontsize = fontsize)\n",
    "axs[1].set_ylabel('ECDF of intents', fontsize = fontsize)\n",
    "axs[1].yaxis.set_tick_params(labelsize=fontsize)\n",
    "axs[1].xaxis.set_tick_params(labelsize=fontsize, rotation = 30)\n",
    "axs[1].legend(fontsize = fontsize - 3, ncol = 1)\n",
    "axs[1].grid()\n",
    "plt.subplots_adjust(left=.1, bottom=None, right=1, top=None, wspace=None, hspace=None)"
   ]
  },
  {
   "cell_type": "markdown",
   "id": "44b08099-e556-417e-a1a2-3f4c84a045e6",
   "metadata": {},
   "source": [
    "### Now, select one tactic and plot most frequent words (Figure 9)"
   ]
  },
  {
   "cell_type": "code",
   "execution_count": 14,
   "id": "5cf86646-36a3-42a4-92a6-fce119f269a0",
   "metadata": {},
   "outputs": [
    {
     "name": "stdout",
     "output_type": "stream",
     "text": [
      "Exploded dataset contains 28150954 rows and 4 columns\n"
     ]
    },
    {
     "data": {
      "text/html": [
       "<div>\n",
       "<style scoped>\n",
       "    .dataframe tbody tr th:only-of-type {\n",
       "        vertical-align: middle;\n",
       "    }\n",
       "\n",
       "    .dataframe tbody tr th {\n",
       "        vertical-align: top;\n",
       "    }\n",
       "\n",
       "    .dataframe thead th {\n",
       "        text-align: right;\n",
       "    }\n",
       "</style>\n",
       "<table border=\"1\" class=\"dataframe\">\n",
       "  <thead>\n",
       "    <tr style=\"text-align: right;\">\n",
       "      <th></th>\n",
       "      <th>splitted_session</th>\n",
       "      <th>splitted_prediction</th>\n",
       "      <th>date</th>\n",
       "      <th>session_id</th>\n",
       "    </tr>\n",
       "  </thead>\n",
       "  <tbody>\n",
       "    <tr>\n",
       "      <th>0</th>\n",
       "      <td>enable</td>\n",
       "      <td>Discovery</td>\n",
       "      <td>2019-06-04</td>\n",
       "      <td>0</td>\n",
       "    </tr>\n",
       "    <tr>\n",
       "      <th>0</th>\n",
       "      <td>;</td>\n",
       "      <td>Discovery</td>\n",
       "      <td>2019-06-04</td>\n",
       "      <td>0</td>\n",
       "    </tr>\n",
       "  </tbody>\n",
       "</table>\n",
       "</div>"
      ],
      "text/plain": [
       "  splitted_session splitted_prediction        date  session_id\n",
       "0           enable           Discovery  2019-06-04           0\n",
       "0                ;           Discovery  2019-06-04           0"
      ]
     },
     "execution_count": 14,
     "metadata": {},
     "output_type": "execute_result"
    }
   ],
   "source": [
    "tactic2word = joined_corpus.copy()\n",
    "tactic2word[\"splitted_session\"] = tactic2word[\"sessions\"].apply(lambda session: session.split(\" \"))\n",
    "tactic2word[\"splitted_prediction\"] = tactic2word[\"predictions\"].apply(lambda predictions: predictions.split(\" -- \"))\n",
    "exploded_df = tactic2word[[\"splitted_session\", \"splitted_prediction\", \"date\", \"session_id\"]].explode([\"splitted_session\", \"splitted_prediction\"])\n",
    "print(f\"Exploded dataset contains {exploded_df.shape[0]} rows and {exploded_df.shape[1]} columns\")\n",
    "exploded_df.head(2)"
   ]
  },
  {
   "cell_type": "markdown",
   "id": "cd226517-38a6-4eb2-8758-7379d7cdc1c2",
   "metadata": {},
   "source": [
    "##### Count how many unique tuples (\"word\", \"prediction\")"
   ]
  },
  {
   "cell_type": "code",
   "execution_count": 15,
   "id": "71261765-8a3a-45b0-a3dd-37567a6b9b60",
   "metadata": {},
   "outputs": [
    {
     "name": "stdout",
     "output_type": "stream",
     "text": [
      "The dataset contains 411753 unique tuples\n"
     ]
    },
    {
     "data": {
      "text/html": [
       "<div>\n",
       "<style scoped>\n",
       "    .dataframe tbody tr th:only-of-type {\n",
       "        vertical-align: middle;\n",
       "    }\n",
       "\n",
       "    .dataframe tbody tr th {\n",
       "        vertical-align: top;\n",
       "    }\n",
       "\n",
       "    .dataframe thead th {\n",
       "        text-align: right;\n",
       "    }\n",
       "</style>\n",
       "<table border=\"1\" class=\"dataframe\">\n",
       "  <thead>\n",
       "    <tr style=\"text-align: right;\">\n",
       "      <th></th>\n",
       "      <th>splitted_session</th>\n",
       "      <th>splitted_prediction</th>\n",
       "      <th>occurrences_tuple</th>\n",
       "    </tr>\n",
       "  </thead>\n",
       "  <tbody>\n",
       "    <tr>\n",
       "      <th>0</th>\n",
       "      <td>\u0001206.196.180.220^C</td>\n",
       "      <td>Execution</td>\n",
       "      <td>1</td>\n",
       "    </tr>\n",
       "    <tr>\n",
       "      <th>1</th>\n",
       "      <td>\u0001^C</td>\n",
       "      <td>Discovery</td>\n",
       "      <td>1</td>\n",
       "    </tr>\n",
       "  </tbody>\n",
       "</table>\n",
       "</div>"
      ],
      "text/plain": [
       "     splitted_session splitted_prediction  occurrences_tuple\n",
       "0  \u0001206.196.180.220^C           Execution                  1\n",
       "1                 \u0001^C           Discovery                  1"
      ]
     },
     "execution_count": 15,
     "metadata": {},
     "output_type": "execute_result"
    }
   ],
   "source": [
    "grouped_df = exploded_df.groupby([\"splitted_session\", \"splitted_prediction\"]).size().reset_index(name = \"occurrences_tuple\")\n",
    "print(f\"The dataset contains {grouped_df.shape[0]} unique tuples\")\n",
    "grouped_df.head(2)"
   ]
  },
  {
   "cell_type": "markdown",
   "id": "48cbed41-4118-4023-8bbd-369d15088dc0",
   "metadata": {},
   "source": [
    "#### Now, focus on 1 intent (e.g., \"Persistence\")"
   ]
  },
  {
   "cell_type": "code",
   "execution_count": 16,
   "id": "86384c45-e0e6-43a0-8f34-879be5a4db78",
   "metadata": {},
   "outputs": [
    {
     "name": "stdout",
     "output_type": "stream",
     "text": [
      "Selected 325854 unique tuples (word, 'Persistence')\n"
     ]
    },
    {
     "data": {
      "text/html": [
       "<div>\n",
       "<style scoped>\n",
       "    .dataframe tbody tr th:only-of-type {\n",
       "        vertical-align: middle;\n",
       "    }\n",
       "\n",
       "    .dataframe tbody tr th {\n",
       "        vertical-align: top;\n",
       "    }\n",
       "\n",
       "    .dataframe thead th {\n",
       "        text-align: right;\n",
       "    }\n",
       "</style>\n",
       "<table border=\"1\" class=\"dataframe\">\n",
       "  <thead>\n",
       "    <tr style=\"text-align: right;\">\n",
       "      <th></th>\n",
       "      <th>splitted_session</th>\n",
       "      <th>splitted_prediction</th>\n",
       "      <th>occurrences_tuple</th>\n",
       "    </tr>\n",
       "  </thead>\n",
       "  <tbody>\n",
       "    <tr>\n",
       "      <th>485</th>\n",
       "      <td>!QAZ2wsx#EDC4rfv\"</td>\n",
       "      <td>Persistence</td>\n",
       "      <td>86</td>\n",
       "    </tr>\n",
       "    <tr>\n",
       "      <th>486</th>\n",
       "      <td>!QAZ2wsx#EDC4rfv%TGB\"</td>\n",
       "      <td>Persistence</td>\n",
       "      <td>2</td>\n",
       "    </tr>\n",
       "  </tbody>\n",
       "</table>\n",
       "</div>"
      ],
      "text/plain": [
       "          splitted_session splitted_prediction  occurrences_tuple\n",
       "485      !QAZ2wsx#EDC4rfv\"         Persistence                 86\n",
       "486  !QAZ2wsx#EDC4rfv%TGB\"         Persistence                  2"
      ]
     },
     "execution_count": 16,
     "metadata": {},
     "output_type": "execute_result"
    }
   ],
   "source": [
    "persistence_df = grouped_df[grouped_df[\"splitted_prediction\"] == \"Persistence\"].copy()\n",
    "print(f\"Selected {persistence_df.shape[0]} unique tuples (word, 'Persistence')\")\n",
    "persistence_df.head(2)"
   ]
  },
  {
   "cell_type": "markdown",
   "id": "882bbd19-4a90-4ed7-abf2-53a17b4b1f80",
   "metadata": {},
   "source": [
    "##### Filter non-alpha words"
   ]
  },
  {
   "cell_type": "code",
   "execution_count": 17,
   "id": "199aa7e5-0dcc-4fd1-ba75-ce3763c50afa",
   "metadata": {},
   "outputs": [
    {
     "name": "stdout",
     "output_type": "stream",
     "text": [
      "Selected 324291 rows\n"
     ]
    },
    {
     "data": {
      "text/html": [
       "<div>\n",
       "<style scoped>\n",
       "    .dataframe tbody tr th:only-of-type {\n",
       "        vertical-align: middle;\n",
       "    }\n",
       "\n",
       "    .dataframe tbody tr th {\n",
       "        vertical-align: top;\n",
       "    }\n",
       "\n",
       "    .dataframe thead th {\n",
       "        text-align: right;\n",
       "    }\n",
       "</style>\n",
       "<table border=\"1\" class=\"dataframe\">\n",
       "  <thead>\n",
       "    <tr style=\"text-align: right;\">\n",
       "      <th></th>\n",
       "      <th>splitted_session</th>\n",
       "      <th>splitted_prediction</th>\n",
       "      <th>occurrences_tuple</th>\n",
       "      <th>is_alpha</th>\n",
       "      <th>is_flag</th>\n",
       "    </tr>\n",
       "  </thead>\n",
       "  <tbody>\n",
       "    <tr>\n",
       "      <th>485</th>\n",
       "      <td>!QAZ2wsx#EDC4rfv\"</td>\n",
       "      <td>Persistence</td>\n",
       "      <td>86</td>\n",
       "      <td>True</td>\n",
       "      <td>False</td>\n",
       "    </tr>\n",
       "    <tr>\n",
       "      <th>486</th>\n",
       "      <td>!QAZ2wsx#EDC4rfv%TGB\"</td>\n",
       "      <td>Persistence</td>\n",
       "      <td>2</td>\n",
       "      <td>True</td>\n",
       "      <td>False</td>\n",
       "    </tr>\n",
       "  </tbody>\n",
       "</table>\n",
       "</div>"
      ],
      "text/plain": [
       "          splitted_session splitted_prediction  occurrences_tuple  is_alpha  \\\n",
       "485      !QAZ2wsx#EDC4rfv\"         Persistence                 86      True   \n",
       "486  !QAZ2wsx#EDC4rfv%TGB\"         Persistence                  2      True   \n",
       "\n",
       "     is_flag  \n",
       "485    False  \n",
       "486    False  "
      ]
     },
     "execution_count": 17,
     "metadata": {},
     "output_type": "execute_result"
    }
   ],
   "source": [
    "import re\n",
    "persistence_df[\"is_alpha\"] = persistence_df[\"splitted_session\"].apply(lambda word: False if re.search('[a-zA-Z]', word) == None else True)\n",
    "persistence_df[\"is_flag\"] = persistence_df[\"splitted_session\"].apply(lambda word: \"-\" in word)\n",
    "\n",
    "filtered_persistence_df = persistence_df[(persistence_df.is_alpha == True) & (persistence_df.is_flag == False)]\n",
    "print(f\"Selected {filtered_persistence_df.shape[0]} rows\")\n",
    "filtered_persistence_df.head(2)"
   ]
  },
  {
   "cell_type": "markdown",
   "id": "4741cca7",
   "metadata": {},
   "source": [
    "#### Figure 9B"
   ]
  },
  {
   "cell_type": "code",
   "execution_count": 18,
   "id": "2896aed9-ee1c-4908-9d8c-007ccf8285f4",
   "metadata": {},
   "outputs": [
    {
     "data": {
      "image/png": "[encoded data removed]",
      "text/plain": [
       "<Figure size 300x700 with 1 Axes>"
      ]
     },
     "metadata": {},
     "output_type": "display_data"
    }
   ],
   "source": [
    "y_ticks = [\"echo\", \"passwd\", \"bash\",\"/var/tmp/.var03522123\", \"chpasswd\", \".ssh\", \"cd\", \"rm\", \"mkdir\", \"chmod\", \"~/.ssh\", \"'user'>>.ssh/authorized\", \"AAAAB3NzaC1yc2EAAAAB...\", \"~/.ssh/authorized_keys\",\"grep\"]\n",
    "top_20 = filtered_persistence_df.sort_values(by = \"occurrences_tuple\", ascending = False).iloc[:20]\n",
    "top_20[\"splitted_session\"] = top_20[\"splitted_session\"].apply(lambda word: word[:25])\n",
    "top_20[\"is_of_interest\"] = top_20[\"splitted_session\"].apply(lambda word: 1 if word in ['mdrfckr\">>.ssh/authorized', '\"root', \"AAAAB3NzaC1yc2EAAAABJQAAA\", \"/var/tmp/.var03522123\"] else 0)\n",
    "top_20 = top_20[~top_20[\"splitted_session\"].isin([\"LC_ALL=C\", \">>~/.ssh/authorized_keys\", \"go=\", \"AAAAB3NzaC1yc2EAAAADAQABA\"])]\n",
    "\n",
    "fig, axs = plt.subplots(1, figsize =(3, 7))\n",
    "fontsize = 20\n",
    "#Axis 1\n",
    "sns.barplot(data=top_20, x=\"occurrences_tuple\", y=\"splitted_session\", orient = \"h\", hue = \"is_of_interest\",dodge = False, ax = axs, palette = {0 : \"royalblue\", 1 : \"gold\"}, errwidth = 0)\n",
    "axs.get_legend().remove()\n",
    "axs.set_xscale(\"log\")\n",
    "#axs.set_xlabel('occurrences of (word, \"Persistence\")', fontsize = fontsize)\n",
    "axs.set_ylabel(\"\")\n",
    "axs.set_xlabel(\"\")\n",
    "#axs.set_xticks([0, 500, 1000])\n",
    "axs.set_yticks(np.arange(len(y_ticks)))\n",
    "axs.set_yticklabels(y_ticks)\n",
    "axs.xaxis.set_tick_params(labelsize=fontsize)\n",
    "axs.yaxis.set_tick_params(labelsize=fontsize)\n",
    "axs.grid()"
   ]
  },
  {
   "cell_type": "markdown",
   "id": "70419220-f536-4de6-ac9c-67266447a757",
   "metadata": {},
   "source": [
    "#### Now, focus on 1 intent (e.g., \"Execution\")"
   ]
  },
  {
   "cell_type": "code",
   "execution_count": 19,
   "id": "0e6ed37a-bbd0-47ea-bd3c-b4c00a658a50",
   "metadata": {},
   "outputs": [
    {
     "name": "stdout",
     "output_type": "stream",
     "text": [
      "Selected 5950 unique tuples (word, 'Execution')\n"
     ]
    },
    {
     "data": {
      "text/html": [
       "<div>\n",
       "<style scoped>\n",
       "    .dataframe tbody tr th:only-of-type {\n",
       "        vertical-align: middle;\n",
       "    }\n",
       "\n",
       "    .dataframe tbody tr th {\n",
       "        vertical-align: top;\n",
       "    }\n",
       "\n",
       "    .dataframe thead th {\n",
       "        text-align: right;\n",
       "    }\n",
       "</style>\n",
       "<table border=\"1\" class=\"dataframe\">\n",
       "  <thead>\n",
       "    <tr style=\"text-align: right;\">\n",
       "      <th></th>\n",
       "      <th>splitted_session</th>\n",
       "      <th>splitted_prediction</th>\n",
       "      <th>occurrences_tuple</th>\n",
       "    </tr>\n",
       "  </thead>\n",
       "  <tbody>\n",
       "    <tr>\n",
       "      <th>0</th>\n",
       "      <td>\u0001206.196.180.220^C</td>\n",
       "      <td>Execution</td>\n",
       "      <td>1</td>\n",
       "    </tr>\n",
       "    <tr>\n",
       "      <th>3</th>\n",
       "      <td>\u0016</td>\n",
       "      <td>Execution</td>\n",
       "      <td>2</td>\n",
       "    </tr>\n",
       "  </tbody>\n",
       "</table>\n",
       "</div>"
      ],
      "text/plain": [
       "     splitted_session splitted_prediction  occurrences_tuple\n",
       "0  \u0001206.196.180.220^C           Execution                  1\n",
       "3                   \u0016           Execution                  2"
      ]
     },
     "execution_count": 19,
     "metadata": {},
     "output_type": "execute_result"
    }
   ],
   "source": [
    "execution_df = grouped_df[grouped_df[\"splitted_prediction\"] == \"Execution\"].copy()\n",
    "print(f\"Selected {execution_df.shape[0]} unique tuples (word, 'Execution')\")\n",
    "execution_df.head(2)"
   ]
  },
  {
   "cell_type": "markdown",
   "id": "e0890d97-4a92-42db-8039-26271a525a34",
   "metadata": {},
   "source": [
    "##### Filter non-alpha words"
   ]
  },
  {
   "cell_type": "code",
   "execution_count": 20,
   "id": "195be21e-d607-42b3-a670-bf566592123e",
   "metadata": {},
   "outputs": [
    {
     "name": "stdout",
     "output_type": "stream",
     "text": [
      "Selected 5355 rows\n"
     ]
    },
    {
     "data": {
      "text/html": [
       "<div>\n",
       "<style scoped>\n",
       "    .dataframe tbody tr th:only-of-type {\n",
       "        vertical-align: middle;\n",
       "    }\n",
       "\n",
       "    .dataframe tbody tr th {\n",
       "        vertical-align: top;\n",
       "    }\n",
       "\n",
       "    .dataframe thead th {\n",
       "        text-align: right;\n",
       "    }\n",
       "</style>\n",
       "<table border=\"1\" class=\"dataframe\">\n",
       "  <thead>\n",
       "    <tr style=\"text-align: right;\">\n",
       "      <th></th>\n",
       "      <th>splitted_session</th>\n",
       "      <th>splitted_prediction</th>\n",
       "      <th>occurrences_tuple</th>\n",
       "      <th>is_alpha</th>\n",
       "      <th>is_flag</th>\n",
       "    </tr>\n",
       "  </thead>\n",
       "  <tbody>\n",
       "    <tr>\n",
       "      <th>0</th>\n",
       "      <td>\u0001206.196.180.220^C</td>\n",
       "      <td>Execution</td>\n",
       "      <td>1</td>\n",
       "      <td>True</td>\n",
       "      <td>False</td>\n",
       "    </tr>\n",
       "    <tr>\n",
       "      <th>5</th>\n",
       "      <td>\u0016cd</td>\n",
       "      <td>Execution</td>\n",
       "      <td>1</td>\n",
       "      <td>True</td>\n",
       "      <td>False</td>\n",
       "    </tr>\n",
       "  </tbody>\n",
       "</table>\n",
       "</div>"
      ],
      "text/plain": [
       "     splitted_session splitted_prediction  occurrences_tuple  is_alpha  \\\n",
       "0  \u0001206.196.180.220^C           Execution                  1      True   \n",
       "5                 \u0016cd           Execution                  1      True   \n",
       "\n",
       "   is_flag  \n",
       "0    False  \n",
       "5    False  "
      ]
     },
     "execution_count": 20,
     "metadata": {},
     "output_type": "execute_result"
    }
   ],
   "source": [
    "import re\n",
    "execution_df[\"is_alpha\"] = execution_df[\"splitted_session\"].apply(lambda word: False if re.search('[a-zA-Z]', word) == None else True)\n",
    "execution_df[\"is_flag\"] = execution_df[\"splitted_session\"].apply(lambda word: \"-\" in word)\n",
    "\n",
    "filtered_execution_df = execution_df[(execution_df.is_alpha == True) & (execution_df.is_flag == False)]\n",
    "print(f\"Selected {filtered_execution_df.shape[0]} rows\")\n",
    "filtered_execution_df.head(2)"
   ]
  },
  {
   "cell_type": "markdown",
   "id": "a02e370a",
   "metadata": {},
   "source": [
    "#### Plot (figure 9a)"
   ]
  },
  {
   "cell_type": "code",
   "execution_count": 21,
   "id": "2b0fa498-720d-44f3-9b83-30f90465057c",
   "metadata": {},
   "outputs": [
    {
     "data": {
      "image/png": "[encoded data removed]",
      "text/plain": [
       "<Figure size 300x700 with 1 Axes>"
      ]
     },
     "metadata": {},
     "output_type": "display_data"
    }
   ],
   "source": [
    "top_30 = filtered_execution_df.sort_values(by = \"occurrences_tuple\", ascending = False).iloc[:30]\n",
    "top_30[\"splitted_session\"] = top_30[\"splitted_session\"].apply(lambda word: word[:30])\n",
    "top_30 = top_30.drop_duplicates(\"splitted_session\")\n",
    "top_30[\"is_of_interest\"] = top_30[\"splitted_session\"].apply(lambda word: 1 if (word in [\"~/.dhpcd\", \"jeSjax\", \"http://23.254.230.38/p3n1s.sh\", \"/tmp/knrm\"]) or (\"IyEvY\" in word) else 0)\n",
    "#top_30 = top_30[~top_30[\"splitted_session\"].str.contains(\"IyEvY\")]\n",
    "top_30 = top_30[~top_30[\"splitted_session\"].isin([\"15s\", \"/tmp\", \"/var/tmp/.systemcache436621\", \"LC_ALL=C\", \"/tmp/r\", \"/home/admin/.dhpcd\", \"sleep\", \"/tmp/jeSjax\", \"$SHELL\"])]\n",
    "top_30[\"splitted_session\"] = top_30[\"splitted_session\"].apply(lambda el: \"IyEvYmluL2jhc2...\" if (\"IyEvY\" in el) else el)\n",
    "top_30[\"splitted_session\"] = top_30[\"splitted_session\"].apply(lambda el: \"http://#IP/script.sh\" if (\"p3n1s\" in el) else el)\n",
    "\n",
    "fig, axs = plt.subplots(1, figsize =(3, 7))\n",
    "fontsize = 20\n",
    "#Axis 1\n",
    "sns.barplot(data=top_30, x=\"occurrences_tuple\", y=\"splitted_session\", orient = \"h\", hue = \"is_of_interest\", dodge = False, ax = axs, palette = {0 : \"royalblue\", 1 : \"gold\"})\n",
    "axs.get_legend().remove()\n",
    "axs.set_xscale(\"log\")\n",
    "axs.set_xlabel('')\n",
    "axs.set_ylabel(\"\")\n",
    "axs.set_xticks([1000, 10000, 100000])\n",
    "axs.xaxis.set_tick_params(labelsize=fontsize)\n",
    "axs.yaxis.set_tick_params(labelsize=fontsize)\n",
    "axs.grid()"
   ]
  },
  {
   "cell_type": "markdown",
   "id": "b586b204",
   "metadata": {},
   "source": [
    "## Now, figure equivalent to figure 13 paper"
   ]
  },
  {
   "cell_type": "markdown",
   "id": "0e992acc",
   "metadata": {},
   "source": [
    "### Investigate one of the following (i.e., dhpcd)\n",
    "#### Select only rows that contain the chosen word"
   ]
  },
  {
   "cell_type": "code",
   "execution_count": 22,
   "id": "0e46d3a8",
   "metadata": {},
   "outputs": [
    {
     "name": "stdout",
     "output_type": "stream",
     "text": [
      "Before filtering, we had 233035 sessions\n",
      "After filtering, we selected 664 sessions\n"
     ]
    }
   ],
   "source": [
    "from datetime import datetime\n",
    "print(f\"Before filtering, we had {joined_corpus.shape[0]} sessions\")\n",
    "upper_date = datetime.strptime(\"01/01/2020\", '%d/%m/%Y').date()\n",
    "\n",
    "corpus_of_chosen_word = joined_corpus[(joined_corpus.sessions.str.contains(\"~/.dhpcd\")) & (joined_corpus.date < upper_date)].copy()\n",
    "print(f\"After filtering, we selected {corpus_of_chosen_word.shape[0]} sessions\")"
   ]
  },
  {
   "cell_type": "markdown",
   "id": "ff34893f",
   "metadata": {},
   "source": [
    "For each fingerprint, get first date in which the fingerprint appeared"
   ]
  },
  {
   "cell_type": "code",
   "execution_count": 23,
   "id": "afaa83d0",
   "metadata": {},
   "outputs": [
    {
     "name": "stdout",
     "output_type": "stream",
     "text": [
      "There are 182 unique sequences of predictions associated\n"
     ]
    },
    {
     "data": {
      "text/html": [
       "<div>\n",
       "<style scoped>\n",
       "    .dataframe tbody tr th:only-of-type {\n",
       "        vertical-align: middle;\n",
       "    }\n",
       "\n",
       "    .dataframe tbody tr th {\n",
       "        vertical-align: top;\n",
       "    }\n",
       "\n",
       "    .dataframe thead th {\n",
       "        text-align: right;\n",
       "    }\n",
       "</style>\n",
       "<table border=\"1\" class=\"dataframe\">\n",
       "  <thead>\n",
       "    <tr style=\"text-align: right;\">\n",
       "      <th></th>\n",
       "      <th>predictions</th>\n",
       "      <th>date</th>\n",
       "    </tr>\n",
       "  </thead>\n",
       "  <tbody>\n",
       "    <tr>\n",
       "      <th>137</th>\n",
       "      <td>Execution -- Execution -- Execution -- Executi...</td>\n",
       "      <td>2019-09-18</td>\n",
       "    </tr>\n",
       "    <tr>\n",
       "      <th>136</th>\n",
       "      <td>Execution -- Execution -- Execution -- Executi...</td>\n",
       "      <td>2019-09-19</td>\n",
       "    </tr>\n",
       "  </tbody>\n",
       "</table>\n",
       "</div>"
      ],
      "text/plain": [
       "                                           predictions        date\n",
       "137  Execution -- Execution -- Execution -- Executi...  2019-09-18\n",
       "136  Execution -- Execution -- Execution -- Executi...  2019-09-19"
      ]
     },
     "execution_count": 23,
     "metadata": {},
     "output_type": "execute_result"
    }
   ],
   "source": [
    "corpus_of_chosen_word.sort_values(by = \"first_timestamp\", inplace = True)\n",
    "first_appearance_chosen_word = corpus_of_chosen_word.groupby(\"predictions\")[\"date\"].agg(\"first\").reset_index()\n",
    "print(f\"There are {first_appearance_chosen_word.shape[0]} unique sequences of predictions associated\")\n",
    "first_appearance_chosen_word.sort_values(by = \"date\").head(2)"
   ]
  },
  {
   "cell_type": "markdown",
   "id": "f42e8179",
   "metadata": {},
   "source": [
    "Also take into account how many sessions were associated to each sequence"
   ]
  },
  {
   "cell_type": "code",
   "execution_count": 24,
   "id": "d3983122",
   "metadata": {},
   "outputs": [
    {
     "name": "stdout",
     "output_type": "stream",
     "text": [
      "Displaying examples in the order of date of birth:\n"
     ]
    },
    {
     "data": {
      "text/html": [
       "<div>\n",
       "<style scoped>\n",
       "    .dataframe tbody tr th:only-of-type {\n",
       "        vertical-align: middle;\n",
       "    }\n",
       "\n",
       "    .dataframe tbody tr th {\n",
       "        vertical-align: top;\n",
       "    }\n",
       "\n",
       "    .dataframe thead th {\n",
       "        text-align: right;\n",
       "    }\n",
       "</style>\n",
       "<table border=\"1\" class=\"dataframe\">\n",
       "  <thead>\n",
       "    <tr style=\"text-align: right;\">\n",
       "      <th></th>\n",
       "      <th>predictions</th>\n",
       "      <th>date</th>\n",
       "      <th>associated_sessions</th>\n",
       "    </tr>\n",
       "  </thead>\n",
       "  <tbody>\n",
       "    <tr>\n",
       "      <th>137</th>\n",
       "      <td>Execution -- Execution -- Execution -- Executi...</td>\n",
       "      <td>2019-09-18</td>\n",
       "      <td>2</td>\n",
       "    </tr>\n",
       "    <tr>\n",
       "      <th>136</th>\n",
       "      <td>Execution -- Execution -- Execution -- Executi...</td>\n",
       "      <td>2019-09-19</td>\n",
       "      <td>3</td>\n",
       "    </tr>\n",
       "    <tr>\n",
       "      <th>129</th>\n",
       "      <td>Execution -- Execution -- Execution -- Executi...</td>\n",
       "      <td>2019-09-20</td>\n",
       "      <td>4</td>\n",
       "    </tr>\n",
       "    <tr>\n",
       "      <th>4</th>\n",
       "      <td>Discovery -- Discovery -- Discovery -- Discove...</td>\n",
       "      <td>2019-09-20</td>\n",
       "      <td>4</td>\n",
       "    </tr>\n",
       "    <tr>\n",
       "      <th>128</th>\n",
       "      <td>Execution -- Execution -- Execution -- Executi...</td>\n",
       "      <td>2019-09-23</td>\n",
       "      <td>2</td>\n",
       "    </tr>\n",
       "  </tbody>\n",
       "</table>\n",
       "</div>"
      ],
      "text/plain": [
       "                                           predictions        date  \\\n",
       "137  Execution -- Execution -- Execution -- Executi...  2019-09-18   \n",
       "136  Execution -- Execution -- Execution -- Executi...  2019-09-19   \n",
       "129  Execution -- Execution -- Execution -- Executi...  2019-09-20   \n",
       "4    Discovery -- Discovery -- Discovery -- Discove...  2019-09-20   \n",
       "128  Execution -- Execution -- Execution -- Executi...  2019-09-23   \n",
       "\n",
       "     associated_sessions  \n",
       "137                    2  \n",
       "136                    3  \n",
       "129                    4  \n",
       "4                      4  \n",
       "128                    2  "
      ]
     },
     "execution_count": 24,
     "metadata": {},
     "output_type": "execute_result"
    }
   ],
   "source": [
    "sessions_per_seq = corpus_of_chosen_word.groupby(\"predictions\")[\"sessions\"].count().reset_index(name = \"associated_sessions\")\n",
    "birth_and_occurrences = first_appearance_chosen_word.merge(sessions_per_seq, on = \"predictions\")\n",
    "print(\"Displaying examples in the order of date of birth:\")\n",
    "birth_and_occurrences.sort_values(by = \"date\").head(5)"
   ]
  },
  {
   "cell_type": "markdown",
   "id": "3af64bd9-df9a-4c04-ab1e-f49060164ec4",
   "metadata": {},
   "source": [
    "#### We will compare prototypes\n",
    "##### Remember that within the same family we work on \"fixed size\" (each family of prediction has the same number of words)"
   ]
  },
  {
   "cell_type": "code",
   "execution_count": 25,
   "id": "41105200-de8d-4e45-93d0-5b4b5f751375",
   "metadata": {},
   "outputs": [
    {
     "name": "stderr",
     "output_type": "stream",
     "text": [
      "100%|██████████| 182/182 [00:04<00:00, 37.84it/s]\n"
     ]
    },
    {
     "data": {
      "text/html": [
       "<div>\n",
       "<style scoped>\n",
       "    .dataframe tbody tr th:only-of-type {\n",
       "        vertical-align: middle;\n",
       "    }\n",
       "\n",
       "    .dataframe tbody tr th {\n",
       "        vertical-align: top;\n",
       "    }\n",
       "\n",
       "    .dataframe thead th {\n",
       "        text-align: right;\n",
       "    }\n",
       "</style>\n",
       "<table border=\"1\" class=\"dataframe\">\n",
       "  <thead>\n",
       "    <tr style=\"text-align: right;\">\n",
       "      <th></th>\n",
       "      <th>predictions</th>\n",
       "      <th>associated_sessions</th>\n",
       "      <th>percentage_varying_elements</th>\n",
       "      <th>prototype</th>\n",
       "    </tr>\n",
       "  </thead>\n",
       "  <tbody>\n",
       "    <tr>\n",
       "      <th>0</th>\n",
       "      <td>Execution -- Execution -- Execution -- Executi...</td>\n",
       "      <td>2</td>\n",
       "      <td>100.0</td>\n",
       "      <td>[[50.0, 50.0, 100.0, 50.0, 50.0, 100.0, 50.0, ...</td>\n",
       "    </tr>\n",
       "    <tr>\n",
       "      <th>1</th>\n",
       "      <td>Execution -- Execution -- Execution -- Executi...</td>\n",
       "      <td>3</td>\n",
       "      <td>100.0</td>\n",
       "      <td>[[33.333333333333336, 33.333333333333336, 100....</td>\n",
       "    </tr>\n",
       "  </tbody>\n",
       "</table>\n",
       "</div>"
      ],
      "text/plain": [
       "                                         predictions  associated_sessions  \\\n",
       "0  Execution -- Execution -- Execution -- Executi...                    2   \n",
       "1  Execution -- Execution -- Execution -- Executi...                    3   \n",
       "\n",
       "   percentage_varying_elements  \\\n",
       "0                        100.0   \n",
       "1                        100.0   \n",
       "\n",
       "                                           prototype  \n",
       "0  [[50.0, 50.0, 100.0, 50.0, 50.0, 100.0, 50.0, ...  \n",
       "1  [[33.333333333333336, 33.333333333333336, 100....  "
      ]
     },
     "execution_count": 25,
     "metadata": {},
     "output_type": "execute_result"
    }
   ],
   "source": [
    "from tqdm import tqdm\n",
    "families_attacks = corpus_of_chosen_word.predictions.unique() # Obtain set of \"families\"\n",
    "df_prototypes = []\n",
    "for family in tqdm(families_attacks):\n",
    "    # Select the corresponding sessions\n",
    "    attacking_sessions = corpus_of_chosen_word[corpus_of_chosen_word.predictions == family][[\"sessions\"]] \n",
    "    \n",
    "    splitted_sessions = attacking_sessions[\"sessions\"].str.split(' ', expand=True)\n",
    "    assert not splitted_sessions.isnull().values.any(), \"Error, NaN in the dataset\"\n",
    "    # Count the number of unique elements per column (each column corresponds to a word)\n",
    "    prototype = splitted_sessions.nunique().to_frame().T.values\n",
    "    associated_sessions = birth_and_occurrences[birth_and_occurrences.predictions == family][\"associated_sessions\"].iloc[0]\n",
    "    prototype = np.divide(prototype, associated_sessions / 100) \n",
    "\n",
    "    # Save how many variable elements there are per family\n",
    "    varying_elements = len(prototype[(prototype != 1)])\n",
    "    percentage_varying_elements = varying_elements / prototype.shape[1] * 100\n",
    "    # Also save the number of associated sessions per family\n",
    "    associated_sessions = attacking_sessions.shape[0]\n",
    "    df_prototypes.append([family, associated_sessions, percentage_varying_elements, prototype])\n",
    "\n",
    "df_prototypes = pd.DataFrame(df_prototypes, columns = [\"predictions\", \"associated_sessions\", \"percentage_varying_elements\", \"prototype\"])\n",
    "df_prototypes.head(2)"
   ]
  },
  {
   "cell_type": "markdown",
   "id": "90d954f5",
   "metadata": {},
   "source": [
    "Isolate fingerprints with most associated sessions containing dhpcd "
   ]
  },
  {
   "cell_type": "code",
   "execution_count": 26,
   "id": "abf36def",
   "metadata": {},
   "outputs": [
    {
     "data": {
      "text/plain": [
       "(datetime.date(2019, 10, 17), datetime.date(2019, 10, 7))"
      ]
     },
     "execution_count": 26,
     "metadata": {},
     "output_type": "execute_result"
    }
   ],
   "source": [
    "dates_of_interest = birth_and_occurrences.sort_values(by = \"associated_sessions\", ascending = False).iloc[:10].date.values\n",
    "upper_date_threshold = np.max(dates_of_interest)\n",
    "lower_date_threshold = np.min(dates_of_interest)\n",
    "upper_date_threshold, lower_date_threshold"
   ]
  },
  {
   "cell_type": "code",
   "execution_count": 27,
   "id": "c43a7814",
   "metadata": {},
   "outputs": [
    {
     "data": {
      "text/plain": [
       "13"
      ]
     },
     "execution_count": 27,
     "metadata": {},
     "output_type": "execute_result"
    }
   ],
   "source": [
    "session_threshold = birth_and_occurrences.sort_values(by = \"associated_sessions\", ascending = False).iloc[:10].associated_sessions.iloc[-1]\n",
    "session_threshold"
   ]
  },
  {
   "cell_type": "code",
   "execution_count": 28,
   "id": "c9f1e478",
   "metadata": {},
   "outputs": [
    {
     "name": "stdout",
     "output_type": "stream",
     "text": [
      "Selected top 11 sequences\n"
     ]
    },
    {
     "data": {
      "text/html": [
       "<div>\n",
       "<style scoped>\n",
       "    .dataframe tbody tr th:only-of-type {\n",
       "        vertical-align: middle;\n",
       "    }\n",
       "\n",
       "    .dataframe tbody tr th {\n",
       "        vertical-align: top;\n",
       "    }\n",
       "\n",
       "    .dataframe thead th {\n",
       "        text-align: right;\n",
       "    }\n",
       "</style>\n",
       "<table border=\"1\" class=\"dataframe\">\n",
       "  <thead>\n",
       "    <tr style=\"text-align: right;\">\n",
       "      <th></th>\n",
       "      <th>predictions</th>\n",
       "      <th>date</th>\n",
       "      <th>associated_sessions</th>\n",
       "    </tr>\n",
       "  </thead>\n",
       "  <tbody>\n",
       "    <tr>\n",
       "      <th>12</th>\n",
       "      <td>Discovery -- Discovery -- Discovery -- Discove...</td>\n",
       "      <td>2019-10-12</td>\n",
       "      <td>14</td>\n",
       "    </tr>\n",
       "    <tr>\n",
       "      <th>22</th>\n",
       "      <td>Discovery -- Discovery -- Discovery -- Discove...</td>\n",
       "      <td>2019-10-10</td>\n",
       "      <td>13</td>\n",
       "    </tr>\n",
       "  </tbody>\n",
       "</table>\n",
       "</div>"
      ],
      "text/plain": [
       "                                          predictions        date  \\\n",
       "12  Discovery -- Discovery -- Discovery -- Discove...  2019-10-12   \n",
       "22  Discovery -- Discovery -- Discovery -- Discove...  2019-10-10   \n",
       "\n",
       "    associated_sessions  \n",
       "12                   14  \n",
       "22                   13  "
      ]
     },
     "execution_count": 28,
     "metadata": {},
     "output_type": "execute_result"
    }
   ],
   "source": [
    "top_birth_and_occurrences = birth_and_occurrences[(birth_and_occurrences.date >= lower_date_threshold) & \\\n",
    "                                                (birth_and_occurrences.date <= upper_date_threshold) & \\\n",
    "                                                (birth_and_occurrences.associated_sessions >= session_threshold)].copy()\n",
    "print(f\"Selected top {top_birth_and_occurrences.shape[0]} sequences\")\n",
    "top_birth_and_occurrences.head(2)"
   ]
  },
  {
   "cell_type": "code",
   "execution_count": 29,
   "id": "f66565ca-28ea-48f4-8b20-7534fd6c39cc",
   "metadata": {},
   "outputs": [
    {
     "data": {
      "text/html": [
       "<div>\n",
       "<style scoped>\n",
       "    .dataframe tbody tr th:only-of-type {\n",
       "        vertical-align: middle;\n",
       "    }\n",
       "\n",
       "    .dataframe tbody tr th {\n",
       "        vertical-align: top;\n",
       "    }\n",
       "\n",
       "    .dataframe thead th {\n",
       "        text-align: right;\n",
       "    }\n",
       "</style>\n",
       "<table border=\"1\" class=\"dataframe\">\n",
       "  <thead>\n",
       "    <tr style=\"text-align: right;\">\n",
       "      <th></th>\n",
       "      <th>predictions</th>\n",
       "      <th>associated_sessions</th>\n",
       "      <th>percentage_varying_elements</th>\n",
       "      <th>prototype</th>\n",
       "    </tr>\n",
       "  </thead>\n",
       "  <tbody>\n",
       "    <tr>\n",
       "      <th>31</th>\n",
       "      <td>Discovery -- Discovery -- Discovery -- Discove...</td>\n",
       "      <td>51</td>\n",
       "      <td>100.0</td>\n",
       "      <td>[[1.9607843137254901, 1.9607843137254901, 1.96...</td>\n",
       "    </tr>\n",
       "    <tr>\n",
       "      <th>33</th>\n",
       "      <td>Execution -- Execution -- Execution -- Executi...</td>\n",
       "      <td>104</td>\n",
       "      <td>100.0</td>\n",
       "      <td>[[0.9615384615384615, 0.9615384615384615, 100....</td>\n",
       "    </tr>\n",
       "  </tbody>\n",
       "</table>\n",
       "</div>"
      ],
      "text/plain": [
       "                                          predictions  associated_sessions  \\\n",
       "31  Discovery -- Discovery -- Discovery -- Discove...                   51   \n",
       "33  Execution -- Execution -- Execution -- Executi...                  104   \n",
       "\n",
       "    percentage_varying_elements  \\\n",
       "31                        100.0   \n",
       "33                        100.0   \n",
       "\n",
       "                                            prototype  \n",
       "31  [[1.9607843137254901, 1.9607843137254901, 1.96...  \n",
       "33  [[0.9615384615384615, 0.9615384615384615, 100....  "
      ]
     },
     "execution_count": 29,
     "metadata": {},
     "output_type": "execute_result"
    }
   ],
   "source": [
    "first_seq = top_birth_and_occurrences.iloc[8].predictions\n",
    "second_seq = top_birth_and_occurrences.iloc[3].predictions\n",
    "third_seq = top_birth_and_occurrences.iloc[9].predictions\n",
    "fourth_seq = top_birth_and_occurrences.iloc[6].predictions\n",
    "\n",
    "selected_prototypes = df_prototypes[df_prototypes.predictions.isin([first_seq, second_seq, third_seq, fourth_seq])]\n",
    "selected_prototypes.head(2)"
   ]
  },
  {
   "cell_type": "markdown",
   "id": "f5546b68-049b-4003-b9fd-ca7299d4f1cf",
   "metadata": {},
   "source": [
    "#### Idea here is that, since working withing the same family, we have guarantees that all sessions associated to that family will have the same number of words\n",
    "##### If that is the case, we can then visualize which are the n-bit changing"
   ]
  },
  {
   "cell_type": "code",
   "execution_count": 30,
   "id": "15c4111d-ea24-4699-a20f-e94deae989b6",
   "metadata": {},
   "outputs": [
    {
     "data": {
      "image/png": "[encoded data removed]",
      "text/plain": [
       "<Figure size 600x400 with 1 Axes>"
      ]
     },
     "metadata": {},
     "output_type": "display_data"
    }
   ],
   "source": [
    "import matplotlib.pyplot as plt\n",
    "fig, axs = plt.subplots(1, figsize=(6,4))\n",
    "fontsize = 20\n",
    "random_words = []\n",
    "for i in range(selected_prototypes.shape[0]):\n",
    "    to_plot = selected_prototypes.iloc[i].prototype[0]\n",
    "    axs.bar(np.arange(to_plot.shape[0]), to_plot, label = f\"Prototype {i + 1}\")\n",
    "    index_random_word = [it for it, el in enumerate(to_plot) if el>5]\n",
    "    random_words.append(index_random_word)\n",
    "\n",
    "axs.set_xlabel(\"Words' positions\", fontsize = fontsize - 5)\n",
    "axs.set_ylabel('% varying elements', fontsize = fontsize - 5)\n",
    "axs.yaxis.set_tick_params(labelsize=fontsize)\n",
    "axs.xaxis.set_tick_params(labelsize=fontsize)\n",
    "axs.legend()\n",
    "axs.grid()\n",
    "plt.tight_layout()\n",
    "plt.show()"
   ]
  },
  {
   "cell_type": "markdown",
   "id": "fc5e648b-318d-45a5-94e9-86413503a9cf",
   "metadata": {},
   "source": [
    "##### Prototypes say that we could basically pick any sessions from the two sequences (only random words changing)"
   ]
  },
  {
   "cell_type": "code",
   "execution_count": 31,
   "id": "e82936d3-ccbf-4357-93b3-aad3100cc004",
   "metadata": {},
   "outputs": [
    {
     "name": "stdout",
     "output_type": "stream",
     "text": [
      "\n",
      "First example:\n",
      "\n",
      "Execution - scp -- Execution - -t -- Execution - ~/kj22a7yyjfhlaqsf7iifwm7xiu -- Execution - ; -- Execution - LC_ALL=C -- Execution - ~/kj22a7yyjfhlaqsf7iifwm7xiu -- Execution - ; -- Defense Evasion - LC_ALL=C -- Defense Evasion - rm -- Defense Evasion - -f -- Defense Evasion - ~/kj22a7yyjfhlaqsf7iifwm7xiu -- Defense Evasion - ; -- Execution - LC_ALL=C -- Execution - chattr -- Execution - -i -- Execution - -a -- Execution - ~/.dhpcd -- Execution - ; -- Execution - LC_ALL=C -- Execution - rm -- Execution - -f -- Execution - ~/.dhpcd -- Execution - ; -- Execution - LC_ALL=C -- Execution - rmdir -- Execution - ~/.dhpcd -- Execution - ; -- Execution - scp -- Execution - -t -- Execution - ~/.dhpcd -- Execution - ; -- Execution - LC_ALL=C -- Execution - ~/.dhpcd -- Execution - ; -- Execution - LC_ALL=C -- Execution - echo -- Execution - ~ -- Execution - ; -- Discovery - LC_ALL=C -- Discovery - chattr -- Discovery - -i -- Discovery - -a -- Discovery - /etc/shadow -- Discovery - ; -- Discovery - LC_ALL=C -- Discovery - passwd -- Discovery - ; -- Discovery - LC_ALL=C -- Discovery - passwd -- Discovery - ; -- Discovery - LC_ALL=C -- Discovery - passwd -- Discovery - test -- Discovery - ; -- Discovery - LC_ALL=C -- Discovery - passwd -- Discovery - test -- Discovery - ; -- Discovery - LC_ALL=C -- Discovery - passwd -- Discovery - oracle -- Discovery - ; -- Discovery - LC_ALL=C -- Discovery - passwd -- Discovery - oracle -- Discovery - ; -- Discovery - LC_ALL=C -- Discovery - passwd -- Discovery - test1 -- Discovery - ; -- Discovery - LC_ALL=C -- Discovery - passwd -- Discovery - test1 -- Discovery - ; -- Discovery - LC_ALL=C -- Discovery - chattr -- Discovery - +a -- Discovery - /etc/shadow -- Discovery - ; -- Discovery - LC_ALL=C -- Discovery - mkdir -- Discovery - -p -- Discovery - ~/.ssh -- Discovery - ; -- Discovery - LC_ALL=C -- Discovery - chmod -- Discovery - 700 -- Discovery - ~/.ssh -- Discovery - ; -- Discovery - LC_ALL=C -- Discovery - grep -- Discovery - \"ssh-rsa -- Discovery - AAAAB3NzaC1yc2EAAAADAQABAAABAQCuhPmv3xdhU7JbMoc/ecBTDxiGqFNKbe564p4aNT6JbYWjNwZ5z6E4iQQDQ0bEp7uBtB0aut0apqDF/SL7pN5ybh2X44aCwDaSEB6bJuJi0yMkZwIvenmtCA1LMAr2XifvGS/Ulac7Qh5vFzfw562cWC+IOI+LyQZAcPgr+CXphJhm8QQ+O454ItXurQX6oPlA2rNfF36fnxYss1ZvUYC80wWTi9k2+/XR3IoQXZHKCFsJiwyKO2CY+jShBbDBbtdOX3/ksHNVNStA/jPE0HYD7u6V2Efjv9K+AEbklMsytD9T60Iu3ua+ugBrP5hL7zAjPHpXH8qW4Ku7dySZ4yvH\" -- Discovery - ~/.ssh/authorized_keys -- Discovery - ; -- Discovery - LC_ALL=C -- Discovery - grep -- Discovery - \"ssh-rsa -- Discovery - AAAAB3NzaC1yc2EAAAADAQABAAABAQDTiGm9b44ZjkQoMkcGuVsC8SGW7a9aFODS6nb64WnMwBwKPja7k56LyBBdVRm+MeKecx6Q/qLn5J+ggJ6um/LoCjKJLrX2dFOjGdyR4ZjnVBwibgr8PLrPoo7bUkaR3DMjfhcmoRlFrj51aN6g0TYHejCmug3TRpg37djYKqJ539iGNcmj021ZlzDBrjfIxUY849O72GsMuytk8n3K6XFxHj8gHyOsB7NgyvE39x9/SoGq2gkQS6TFun6dhmsr+ORokfS2265RwbdEOfnwL2LnQNuhiePlOUHRqzpc0K2pu9TGo1vNRIGSymCatMUNgnNX3tfcuMP5e8f1xDVh7fx3\" -- Discovery - ~/.ssh/authorized_keys -- Discovery - ; -- Discovery - LC_ALL=C -- Discovery - netstat -- Discovery - -plnt -- Discovery - ; -- Discovery - LC_ALL=C -- Discovery - ss -- Discovery - -tln -- Discovery - ; -- Execution - scp -- Execution - -t -- Execution - /dev/shm/kj22a7yyjfhlaqsf7iifwm7xiu -- Execution - ; -- Execution - LC_ALL=C -- Execution - /dev/shm/kj22a7yyjfhlaqsf7iifwm7xiu -- Execution - ; -- Defense Evasion - LC_ALL=C -- Defense Evasion - rm -- Defense Evasion - -f -- Defense Evasion - /dev/shm/kj22a7yyjfhlaqsf7iifwm7xiu -- Defense Evasion - ; -- Execution - scp -- Execution - -t -- Execution - /tmp/kj22a7yyjfhlaqsf7iifwm7xiu -- Execution - ; -- Execution - LC_ALL=C -- Execution - /tmp/kj22a7yyjfhlaqsf7iifwm7xiu -- Defense Evasion - ; -- Defense Evasion - LC_ALL=C -- Defense Evasion - rm -- Defense Evasion - -f -- Defense Evasion - /tmp/kj22a7yyjfhlaqsf7iifwm7xiu -- Defense Evasion - ; -- Execution - scp -- Execution - -t -- Execution - /tmp/knrm -- Execution - ; -- Execution - scp -- Execution - -t -- Execution - /tmp/r -- Execution - ; -- Execution - LC_ALL=C -- Execution - /tmp/knrm -- Execution - ; -- Execution - LC_ALL=C -- Execution - $SHELL -- Execution - /tmp/r -- Execution - ; -- Execution - LC_ALL=C -- Execution - /tmp/knrm -- Execution - ; -- Execution - LC_ALL=C -- Execution - $SHELL -- Execution - /tmp/r -- Execution - ; -- Execution - LC_ALL=C -- Defense Evasion - rm -- Defense Evasion - -f -- Defense Evasion - /home/admin/.dhpcd -- Execution - ; -- Execution - scp -- Execution - -t -- Execution - /home/admin/.dhpcd -- Execution - ; -- Execution - LC_ALL=C -- Execution - /home/admin/.dhpcd -- Execution - -o -- Execution - 127.0.0.1:4444 -- Execution - -B -- Execution - >/dev/null -- Execution - 2>/dev/null -- Execution - ; -- Execution - LC_ALL=C -- Execution - top -- Execution - -bn1 -- Execution - ; -- Execution - LC_ALL=C -- Execution - crontab -- Execution - -l -- Execution - ; -- Execution - LC_ALL=C -- Execution - chattr -- Execution - -i -- Execution - /var/spool/cron/crontabs/root -- Execution - ; -- Execution - LC_ALL=C -- Execution - crontab -- Execution - - -- Execution - ; -- Execution - LC_ALL=C -- Execution - crontab -- Execution - -l -- Execution - ; -- Defense Evasion - LC_ALL=C -- Defense Evasion - rm -- Defense Evasion - -f -- Defense Evasion - /tmp/r -- Defense Evasion - /tmp/knrm -- Defense Evasion - ; -- \n",
      "Second example:\n",
      "\n",
      "Discovery - LC_ALL=C -- Discovery - cat -- Discovery - /etc/rc.local -- Discovery - /etc/rc.d/rc.local -- Discovery - ; -- Discovery - LC_ALL=C -- Discovery - crontab -- Discovery - -l -- Discovery - ; -- Execution - scp -- Execution - -t -- Execution - ~/v1m26ob1crmamf1a5diat3hurk -- Execution - ; -- Execution - LC_ALL=C -- Execution - ~/v1m26ob1crmamf1a5diat3hurk -- Execution - ; -- Execution - LC_ALL=C -- Defense Evasion - rm -- Defense Evasion - -f -- Defense Evasion - ~/v1m26ob1crmamf1a5diat3hurk -- Defense Evasion - ; -- Execution - LC_ALL=C -- Execution - chattr -- Execution - -i -- Execution - -a -- Execution - ~/.dhpcd -- Execution - ; -- Execution - LC_ALL=C -- Execution - rm -- Execution - -f -- Execution - ~/.dhpcd -- Execution - ; -- Execution - LC_ALL=C -- Execution - rmdir -- Execution - ~/.dhpcd -- Execution - ; -- Execution - scp -- Execution - -t -- Execution - ~/.dhpcd -- Execution - ; -- Execution - LC_ALL=C -- Execution - ~/.dhpcd -- Execution - ; -- Execution - LC_ALL=C -- Execution - echo -- Execution - ~ -- Discovery - ; -- Discovery - LC_ALL=C -- Discovery - chattr -- Discovery - -i -- Discovery - -a -- Discovery - /etc/shadow -- Discovery - ; -- Discovery - LC_ALL=C -- Discovery - passwd -- Discovery - ; -- Discovery - LC_ALL=C -- Discovery - passwd -- Discovery - ; -- Discovery - LC_ALL=C -- Discovery - passwd -- Discovery - test -- Discovery - ; -- Discovery - LC_ALL=C -- Discovery - passwd -- Discovery - test -- Discovery - ; -- Discovery - LC_ALL=C -- Discovery - passwd -- Discovery - oracle -- Discovery - ; -- Discovery - LC_ALL=C -- Discovery - passwd -- Discovery - oracle -- Discovery - ; -- Discovery - LC_ALL=C -- Discovery - passwd -- Discovery - test1 -- Discovery - ; -- Discovery - LC_ALL=C -- Discovery - passwd -- Discovery - test1 -- Discovery - ; -- Discovery - LC_ALL=C -- Discovery - chattr -- Discovery - +a -- Discovery - /etc/shadow -- Discovery - ; -- Discovery - LC_ALL=C -- Discovery - mkdir -- Discovery - -p -- Discovery - ~/.ssh -- Discovery - ; -- Discovery - LC_ALL=C -- Discovery - chmod -- Discovery - 700 -- Discovery - ~/.ssh -- Discovery - ; -- Discovery - LC_ALL=C -- Discovery - grep -- Discovery - \"ssh-rsa -- Discovery - AAAAB3NzaC1yc2EAAAADAQABAAABAQCuhPmv3xdhU7JbMoc/ecBTDxiGqFNKbe564p4aNT6JbYWjNwZ5z6E4iQQDQ0bEp7uBtB0aut0apqDF/SL7pN5ybh2X44aCwDaSEB6bJuJi0yMkZwIvenmtCA1LMAr2XifvGS/Ulac7Qh5vFzfw562cWC+IOI+LyQZAcPgr+CXphJhm8QQ+O454ItXurQX6oPlA2rNfF36fnxYss1ZvUYC80wWTi9k2+/XR3IoQXZHKCFsJiwyKO2CY+jShBbDBbtdOX3/ksHNVNStA/jPE0HYD7u6V2Efjv9K+AEbklMsytD9T60Iu3ua+ugBrP5hL7zAjPHpXH8qW4Ku7dySZ4yvH\" -- Discovery - ~/.ssh/authorized_keys -- Discovery - ; -- Persistence - LC_ALL=C -- Persistence - echo -- Persistence - ssh-rsa -- Persistence - AAAAB3NzaC1yc2EAAAADAQABAAABAQCuhPmv3xdhU7JbMoc/ecBTDxiGqFNKbe564p4aNT6JbYWjNwZ5z6E4iQQDQ0bEp7uBtB0aut0apqDF/SL7pN5ybh2X44aCwDaSEB6bJuJi0yMkZwIvenmtCA1LMAr2XifvGS/Ulac7Qh5vFzfw562cWC+IOI+LyQZAcPgr+CXphJhm8QQ+O454ItXurQX6oPlA2rNfF36fnxYss1ZvUYC80wWTi9k2+/XR3IoQXZHKCFsJiwyKO2CY+jShBbDBbtdOX3/ksHNVNStA/jPE0HYD7u6V2Efjv9K+AEbklMsytD9T60Iu3ua+ugBrP5hL7zAjPHpXH8qW4Ku7dySZ4yvH -- Persistence - >>~/.ssh/authorized_keys -- Persistence - ; -- Persistence - LC_ALL=C -- Persistence - grep -- Persistence - \"ssh-rsa -- Persistence - AAAAB3NzaC1yc2EAAAADAQABAAABAQDTiGm9b44ZjkQoMkcGuVsC8SGW7a9aFODS6nb64WnMwBwKPja7k56LyBBdVRm+MeKecx6Q/qLn5J+ggJ6um/LoCjKJLrX2dFOjGdyR4ZjnVBwibgr8PLrPoo7bUkaR3DMjfhcmoRlFrj51aN6g0TYHejCmug3TRpg37djYKqJ539iGNcmj021ZlzDBrjfIxUY849O72GsMuytk8n3K6XFxHj8gHyOsB7NgyvE39x9/SoGq2gkQS6TFun6dhmsr+ORokfS2265RwbdEOfnwL2LnQNuhiePlOUHRqzpc0K2pu9TGo1vNRIGSymCatMUNgnNX3tfcuMP5e8f1xDVh7fx3\" -- Persistence - ~/.ssh/authorized_keys -- Persistence - ; -- Persistence - LC_ALL=C -- Persistence - echo -- Persistence - ssh-rsa -- Persistence - AAAAB3NzaC1yc2EAAAADAQABAAABAQDTiGm9b44ZjkQoMkcGuVsC8SGW7a9aFODS6nb64WnMwBwKPja7k56LyBBdVRm+MeKecx6Q/qLn5J+ggJ6um/LoCjKJLrX2dFOjGdyR4ZjnVBwibgr8PLrPoo7bUkaR3DMjfhcmoRlFrj51aN6g0TYHejCmug3TRpg37djYKqJ539iGNcmj021ZlzDBrjfIxUY849O72GsMuytk8n3K6XFxHj8gHyOsB7NgyvE39x9/SoGq2gkQS6TFun6dhmsr+ORokfS2265RwbdEOfnwL2LnQNuhiePlOUHRqzpc0K2pu9TGo1vNRIGSymCatMUNgnNX3tfcuMP5e8f1xDVh7fx3 -- Persistence - >>~/.ssh/authorized_keys -- Persistence - ; -- Discovery - LC_ALL=C -- Discovery - netstat -- Discovery - -plnt -- Discovery - ; -- Discovery - LC_ALL=C -- Discovery - ss -- Discovery - -tln -- Discovery - ; -- Execution - scp -- Execution - -t -- Execution - /dev/shm/v1m26ob1crmamf1a5diat3hurk -- Execution - ; -- Execution - LC_ALL=C -- Execution - /dev/shm/v1m26ob1crmamf1a5diat3hurk -- Execution - ; -- Defense Evasion - LC_ALL=C -- Defense Evasion - rm -- Defense Evasion - -f -- Defense Evasion - /dev/shm/v1m26ob1crmamf1a5diat3hurk -- Defense Evasion - ; -- Execution - scp -- Execution - -t -- Execution - /tmp/v1m26ob1crmamf1a5diat3hurk -- Execution - ; -- Execution - LC_ALL=C -- Execution - /tmp/v1m26ob1crmamf1a5diat3hurk -- Execution - ; -- Defense Evasion - LC_ALL=C -- Defense Evasion - rm -- Defense Evasion - -f -- Defense Evasion - /tmp/v1m26ob1crmamf1a5diat3hurk -- Defense Evasion - ; -- Execution - scp -- Execution - -t -- Execution - /tmp/knrm -- Execution - ; -- Execution - scp -- Execution - -t -- Execution - /tmp/r -- Execution - ; -- Execution - LC_ALL=C -- Execution - /tmp/knrm -- Execution - ; -- Execution - LC_ALL=C -- Execution - $SHELL -- Execution - /tmp/r -- Execution - ; -- Execution - LC_ALL=C -- Execution - /tmp/knrm -- Execution - ; -- Execution - LC_ALL=C -- Execution - $SHELL -- Execution - /tmp/r -- Execution - ; -- Defense Evasion - LC_ALL=C -- Defense Evasion - rm -- Defense Evasion - -f -- Defense Evasion - /home/admin/.dhpcd -- Defense Evasion - ; -- Execution - scp -- Execution - -t -- Execution - /home/admin/.dhpcd -- Execution - ; -- Execution - LC_ALL=C -- Execution - /home/admin/.dhpcd -- Execution - -o -- Execution - 127.0.0.1:4444 -- Execution - -B -- Execution - >/dev/null -- Execution - 2>/dev/null -- Execution - ; -- Execution - LC_ALL=C -- Execution - top -- Execution - -bn1 -- Execution - ; -- Execution - LC_ALL=C -- Execution - crontab -- Execution - -l -- Execution - ; -- Execution - LC_ALL=C -- Execution - chattr -- Execution - -i -- Execution - /var/spool/cron/crontabs/root -- Execution - ; -- Execution - LC_ALL=C -- Execution - crontab -- Execution - - -- Execution - ; -- Execution - LC_ALL=C -- Execution - crontab -- Execution - -l -- Execution - ; -- Defense Evasion - LC_ALL=C -- Defense Evasion - rm -- Defense Evasion - -f -- Defense Evasion - /tmp/r -- Defense Evasion - /tmp/knrm -- Defense Evasion - ; -- \n",
      "Third example:\n",
      "\n",
      "Execution - scp -- Execution - -t -- Execution - ~/r3ilc1yme24l9qbwps05tnq4ab -- Execution - ; -- Execution - LC_ALL=C -- Execution - ~/r3ilc1yme24l9qbwps05tnq4ab -- Execution - ; -- Defense Evasion - LC_ALL=C -- Defense Evasion - rm -- Defense Evasion - -f -- Defense Evasion - ~/r3ilc1yme24l9qbwps05tnq4ab -- Defense Evasion - ; -- Execution - LC_ALL=C -- Execution - chattr -- Execution - -i -- Execution - -a -- Execution - ~/.dhpcd -- Execution - ; -- Execution - LC_ALL=C -- Execution - rm -- Execution - -f -- Execution - ~/.dhpcd -- Execution - ; -- Execution - LC_ALL=C -- Execution - rmdir -- Execution - ~/.dhpcd -- Execution - ; -- Execution - scp -- Execution - -t -- Execution - ~/.dhpcd -- Execution - ; -- Execution - LC_ALL=C -- Execution - ~/.dhpcd -- Execution - ; -- Execution - LC_ALL=C -- Execution - echo -- Execution - ~ -- Execution - ; -- Discovery - LC_ALL=C -- Discovery - chattr -- Discovery - -i -- Discovery - -a -- Discovery - /etc/shadow -- Discovery - ; -- Discovery - LC_ALL=C -- Discovery - passwd -- Discovery - ; -- Discovery - LC_ALL=C -- Discovery - passwd -- Discovery - ; -- Discovery - LC_ALL=C -- Discovery - passwd -- Discovery - test -- Discovery - ; -- Discovery - LC_ALL=C -- Discovery - passwd -- Discovery - test -- Discovery - ; -- Discovery - LC_ALL=C -- Discovery - passwd -- Discovery - oracle -- Discovery - ; -- Discovery - LC_ALL=C -- Discovery - passwd -- Discovery - oracle -- Discovery - ; -- Discovery - LC_ALL=C -- Discovery - passwd -- Discovery - test1 -- Discovery - ; -- Discovery - LC_ALL=C -- Discovery - passwd -- Discovery - test1 -- Discovery - ; -- Discovery - LC_ALL=C -- Discovery - chattr -- Discovery - +a -- Discovery - /etc/shadow -- Discovery - ; -- Discovery - LC_ALL=C -- Discovery - mkdir -- Discovery - -p -- Discovery - ~/.ssh -- Discovery - ; -- Discovery - LC_ALL=C -- Discovery - chmod -- Discovery - 700 -- Discovery - ~/.ssh -- Discovery - ; -- Discovery - LC_ALL=C -- Discovery - grep -- Discovery - \"ssh-rsa -- Discovery - AAAAB3NzaC1yc2EAAAADAQABAAABAQCuhPmv3xdhU7JbMoc/ecBTDxiGqFNKbe564p4aNT6JbYWjNwZ5z6E4iQQDQ0bEp7uBtB0aut0apqDF/SL7pN5ybh2X44aCwDaSEB6bJuJi0yMkZwIvenmtCA1LMAr2XifvGS/Ulac7Qh5vFzfw562cWC+IOI+LyQZAcPgr+CXphJhm8QQ+O454ItXurQX6oPlA2rNfF36fnxYss1ZvUYC80wWTi9k2+/XR3IoQXZHKCFsJiwyKO2CY+jShBbDBbtdOX3/ksHNVNStA/jPE0HYD7u6V2Efjv9K+AEbklMsytD9T60Iu3ua+ugBrP5hL7zAjPHpXH8qW4Ku7dySZ4yvH\" -- Discovery - ~/.ssh/authorized_keys -- Discovery - ; -- Discovery - LC_ALL=C -- Discovery - echo -- Discovery - ssh-rsa -- Discovery - AAAAB3NzaC1yc2EAAAADAQABAAABAQCuhPmv3xdhU7JbMoc/ecBTDxiGqFNKbe564p4aNT6JbYWjNwZ5z6E4iQQDQ0bEp7uBtB0aut0apqDF/SL7pN5ybh2X44aCwDaSEB6bJuJi0yMkZwIvenmtCA1LMAr2XifvGS/Ulac7Qh5vFzfw562cWC+IOI+LyQZAcPgr+CXphJhm8QQ+O454ItXurQX6oPlA2rNfF36fnxYss1ZvUYC80wWTi9k2+/XR3IoQXZHKCFsJiwyKO2CY+jShBbDBbtdOX3/ksHNVNStA/jPE0HYD7u6V2Efjv9K+AEbklMsytD9T60Iu3ua+ugBrP5hL7zAjPHpXH8qW4Ku7dySZ4yvH -- Discovery - >>~/.ssh/authorized_keys -- Discovery - ; -- Discovery - LC_ALL=C -- Discovery - grep -- Discovery - \"ssh-rsa -- Discovery - AAAAB3NzaC1yc2EAAAADAQABAAABAQDTiGm9b44ZjkQoMkcGuVsC8SGW7a9aFODS6nb64WnMwBwKPja7k56LyBBdVRm+MeKecx6Q/qLn5J+ggJ6um/LoCjKJLrX2dFOjGdyR4ZjnVBwibgr8PLrPoo7bUkaR3DMjfhcmoRlFrj51aN6g0TYHejCmug3TRpg37djYKqJ539iGNcmj021ZlzDBrjfIxUY849O72GsMuytk8n3K6XFxHj8gHyOsB7NgyvE39x9/SoGq2gkQS6TFun6dhmsr+ORokfS2265RwbdEOfnwL2LnQNuhiePlOUHRqzpc0K2pu9TGo1vNRIGSymCatMUNgnNX3tfcuMP5e8f1xDVh7fx3\" -- Discovery - ~/.ssh/authorized_keys -- Discovery - ; -- Persistence - LC_ALL=C -- Persistence - echo -- Persistence - ssh-rsa -- Persistence - AAAAB3NzaC1yc2EAAAADAQABAAABAQDTiGm9b44ZjkQoMkcGuVsC8SGW7a9aFODS6nb64WnMwBwKPja7k56LyBBdVRm+MeKecx6Q/qLn5J+ggJ6um/LoCjKJLrX2dFOjGdyR4ZjnVBwibgr8PLrPoo7bUkaR3DMjfhcmoRlFrj51aN6g0TYHejCmug3TRpg37djYKqJ539iGNcmj021ZlzDBrjfIxUY849O72GsMuytk8n3K6XFxHj8gHyOsB7NgyvE39x9/SoGq2gkQS6TFun6dhmsr+ORokfS2265RwbdEOfnwL2LnQNuhiePlOUHRqzpc0K2pu9TGo1vNRIGSymCatMUNgnNX3tfcuMP5e8f1xDVh7fx3 -- Persistence - >>~/.ssh/authorized_keys -- Persistence - ; -- Discovery - LC_ALL=C -- Discovery - netstat -- Discovery - -plnt -- Discovery - ; -- Discovery - LC_ALL=C -- Discovery - ss -- Discovery - -tln -- Discovery - ; -- Execution - scp -- Execution - -t -- Execution - /dev/shm/r3ilc1yme24l9qbwps05tnq4ab -- Execution - ; -- Execution - LC_ALL=C -- Execution - /dev/shm/r3ilc1yme24l9qbwps05tnq4ab -- Execution - ; -- Defense Evasion - LC_ALL=C -- Defense Evasion - rm -- Defense Evasion - -f -- Defense Evasion - /dev/shm/r3ilc1yme24l9qbwps05tnq4ab -- Defense Evasion - ; -- Execution - scp -- Execution - -t -- Execution - /tmp/r3ilc1yme24l9qbwps05tnq4ab -- Execution - ; -- Execution - LC_ALL=C -- Execution - /tmp/r3ilc1yme24l9qbwps05tnq4ab -- Defense Evasion - ; -- Defense Evasion - LC_ALL=C -- Defense Evasion - rm -- Defense Evasion - -f -- Defense Evasion - /tmp/r3ilc1yme24l9qbwps05tnq4ab -- Defense Evasion - ; -- Execution - scp -- Execution - -t -- Execution - /tmp/knrm -- Execution - ; -- Execution - scp -- Execution - -t -- Execution - /tmp/r -- Execution - ; -- Execution - LC_ALL=C -- Execution - /tmp/knrm -- Execution - ; -- Execution - LC_ALL=C -- Execution - $SHELL -- Execution - /tmp/r -- Execution - ; -- Execution - LC_ALL=C -- Execution - /tmp/knrm -- Execution - ; -- Execution - LC_ALL=C -- Execution - $SHELL -- Execution - /tmp/r -- Execution - ; -- Defense Evasion - LC_ALL=C -- Defense Evasion - rm -- Defense Evasion - -f -- Defense Evasion - /home/admin/.dhpcd -- Defense Evasion - ; -- Execution - scp -- Execution - -t -- Execution - /home/admin/.dhpcd -- Execution - ; -- Execution - LC_ALL=C -- Execution - /home/admin/.dhpcd -- Execution - -o -- Execution - 127.0.0.1:4444 -- Execution - -B -- Execution - >/dev/null -- Execution - 2>/dev/null -- Execution - ; -- Execution - LC_ALL=C -- Execution - top -- Execution - -bn1 -- Execution - ; -- Execution - LC_ALL=C -- Execution - crontab -- Execution - -l -- Execution - ; -- Execution - LC_ALL=C -- Execution - chattr -- Execution - -i -- Execution - /var/spool/cron/crontabs/root -- Execution - ; -- Execution - LC_ALL=C -- Execution - crontab -- Execution - - -- Execution - ; -- Execution - LC_ALL=C -- Execution - crontab -- Execution - -l -- Execution - ; -- Defense Evasion - LC_ALL=C -- Defense Evasion - rm -- Defense Evasion - -f -- Defense Evasion - /tmp/r -- Defense Evasion - /tmp/knrm -- Defense Evasion - ; -- \n",
      "Fourth example:\n",
      "\n",
      "Execution - scp -- Execution - -t -- Execution - ~/naxa7m6idxrxvad3sfolhcl1l4 -- Execution - ; -- Execution - LC_ALL=C -- Execution - ~/naxa7m6idxrxvad3sfolhcl1l4 -- Execution - ; -- Defense Evasion - LC_ALL=C -- Defense Evasion - rm -- Defense Evasion - -f -- Defense Evasion - ~/naxa7m6idxrxvad3sfolhcl1l4 -- Defense Evasion - ; -- Execution - LC_ALL=C -- Execution - chattr -- Execution - -i -- Execution - -a -- Execution - ~/.dhpcd -- Execution - ; -- Execution - LC_ALL=C -- Execution - rm -- Execution - -f -- Execution - ~/.dhpcd -- Execution - ; -- Execution - LC_ALL=C -- Execution - rmdir -- Execution - ~/.dhpcd -- Execution - ; -- Execution - scp -- Execution - -t -- Execution - ~/.dhpcd -- Execution - ; -- Execution - LC_ALL=C -- Execution - ~/.dhpcd -- Execution - ; -- "
     ]
    }
   ],
   "source": [
    "example_first = corpus_of_chosen_word[corpus_of_chosen_word.predictions == first_seq].sessions.iloc[0]\n",
    "example_second = corpus_of_chosen_word[corpus_of_chosen_word.predictions == second_seq].sessions.iloc[0]\n",
    "example_third = corpus_of_chosen_word[corpus_of_chosen_word.predictions == third_seq].sessions.iloc[0]\n",
    "example_fourth= corpus_of_chosen_word[corpus_of_chosen_word.predictions == fourth_seq].sessions.iloc[0]\n",
    "\n",
    "print(f\"\\nFirst example:\\n\")\n",
    "for word, prediction in zip(first_seq.split(\" -- \"), example_first.split(\" \")):\n",
    "    print(f\"{word} - {prediction}\", end = \" -- \")\n",
    "print(f\"\\nSecond example:\\n\")\n",
    "for word, prediction in zip(second_seq.split(\" -- \"), example_second.split(\" \")):\n",
    "    print(f\"{word} - {prediction}\", end = \" -- \")\n",
    "print(f\"\\nThird example:\\n\")\n",
    "for word, prediction in zip(third_seq.split(\" -- \"), example_third.split(\" \")):\n",
    "    print(f\"{word} - {prediction}\", end = \" -- \")\n",
    "print(f\"\\nFourth example:\\n\")\n",
    "for word, prediction in zip(fourth_seq.split(\" -- \"), example_fourth.split(\" \")):\n",
    "    print(f\"{word} - {prediction}\", end = \" -- \")"
   ]
  },
  {
   "cell_type": "code",
   "execution_count": 32,
   "id": "3ec071c1-992c-4946-81f1-c66239d1b819",
   "metadata": {},
   "outputs": [
    {
     "name": "stdout",
     "output_type": "stream",
     "text": [
      "Random words for sequence 1:\n",
      "Word at index 11: ;\n",
      "Word at index 14: -i\n",
      "Word at index 19: rm\n",
      "Word at index 132: ;\n",
      "Word at index 135: /tmp/knrm\n",
      "Word at index 140: ;\n",
      "Word at index 144: LC_ALL=C\n",
      "Word at index 147: ;\n",
      "Word at index 152: $SHELL\n",
      "\n",
      "Random words for sequence 2:\n",
      "Word at index 2: /etc/rc.local\n",
      "Word at index 5: LC_ALL=C\n",
      "Word at index 10: -t\n",
      "Word at index 111: grep\n",
      "Word at index 114: ~/.ssh/authorized_keys\n",
      "Word at index 119: AAAAB3NzaC1yc2EAAAADAQABAAABAQDTiGm9b44ZjkQoMkcGuVsC8SGW7a9aFODS6nb64WnMwBwKPja7k56LyBBdVRm+MeKecx6Q/qLn5J+ggJ6um/LoCjKJLrX2dFOjGdyR4ZjnVBwibgr8PLrPoo7bUkaR3DMjfhcmoRlFrj51aN6g0TYHejCmug3TRpg37djYKqJ539iGNcmj021ZlzDBrjfIxUY849O72GsMuytk8n3K6XFxHj8gHyOsB7NgyvE39x9/SoGq2gkQS6TFun6dhmsr+ORokfS2265RwbdEOfnwL2LnQNuhiePlOUHRqzpc0K2pu9TGo1vNRIGSymCatMUNgnNX3tfcuMP5e8f1xDVh7fx3\n",
      "Word at index 123: netstat\n",
      "Word at index 126: LC_ALL=C\n",
      "Word at index 131: -t\n",
      "\n",
      "Random words for sequence 3:\n",
      "Word at index 2: ~/r3ilc1yme24l9qbwps05tnq4ab\n",
      "Word at index 5: ~/r3ilc1yme24l9qbwps05tnq4ab\n",
      "Word at index 10: ~/r3ilc1yme24l9qbwps05tnq4ab\n",
      "Word at index 123: /dev/shm/r3ilc1yme24l9qbwps05tnq4ab\n",
      "Word at index 126: /dev/shm/r3ilc1yme24l9qbwps05tnq4ab\n",
      "Word at index 131: /dev/shm/r3ilc1yme24l9qbwps05tnq4ab\n",
      "Word at index 135: /tmp/r3ilc1yme24l9qbwps05tnq4ab\n",
      "Word at index 138: /tmp/r3ilc1yme24l9qbwps05tnq4ab\n",
      "Word at index 143: /tmp/r3ilc1yme24l9qbwps05tnq4ab\n",
      "\n",
      "Random words for sequence 4:\n",
      "Word at index 2: ~/naxa7m6idxrxvad3sfolhcl1l4\n",
      "Word at index 5: ~/naxa7m6idxrxvad3sfolhcl1l4\n",
      "Word at index 10: ~/naxa7m6idxrxvad3sfolhcl1l4\n",
      "\n"
     ]
    }
   ],
   "source": [
    "examples = [example_first, example_second, example_third, example_fourth]\n",
    "for it, random_words_example in enumerate(random_words):\n",
    "    print(f\"Random words for sequence {it + 1}:\")\n",
    "    for it_2 in random_words_example:\n",
    "        print(f\"Word at index {it_2}: {examples[it].split(' ')[it_2]}\")\n",
    "    print()"
   ]
  },
  {
   "cell_type": "markdown",
   "id": "2cfff9a5-6c2e-4808-b4a9-6773d30711aa",
   "metadata": {},
   "source": [
    "#### Another visualization (not in the paper)"
   ]
  },
  {
   "cell_type": "code",
   "execution_count": 33,
   "id": "aded8229-1ef3-4f12-ac94-ad22695b0b2d",
   "metadata": {},
   "outputs": [
    {
     "data": {
      "text/html": [
       "<div>\n",
       "<style scoped>\n",
       "    .dataframe tbody tr th:only-of-type {\n",
       "        vertical-align: middle;\n",
       "    }\n",
       "\n",
       "    .dataframe tbody tr th {\n",
       "        vertical-align: top;\n",
       "    }\n",
       "\n",
       "    .dataframe thead th {\n",
       "        text-align: right;\n",
       "    }\n",
       "</style>\n",
       "<table border=\"1\" class=\"dataframe\">\n",
       "  <thead>\n",
       "    <tr style=\"text-align: right;\">\n",
       "      <th></th>\n",
       "      <th>predictions</th>\n",
       "      <th>associated_sessions</th>\n",
       "      <th>percentage_varying_elements</th>\n",
       "      <th>prototype</th>\n",
       "      <th>len_prototype</th>\n",
       "      <th>padded_prototype</th>\n",
       "    </tr>\n",
       "  </thead>\n",
       "  <tbody>\n",
       "    <tr>\n",
       "      <th>31</th>\n",
       "      <td>Discovery -- Discovery -- Discovery -- Discove...</td>\n",
       "      <td>51</td>\n",
       "      <td>100.0</td>\n",
       "      <td>[1.9607843137254901, 1.9607843137254901, 1.960...</td>\n",
       "      <td>220</td>\n",
       "      <td>[1.9607843137254901, 1.9607843137254901, 1.960...</td>\n",
       "    </tr>\n",
       "    <tr>\n",
       "      <th>33</th>\n",
       "      <td>Execution -- Execution -- Execution -- Executi...</td>\n",
       "      <td>104</td>\n",
       "      <td>100.0</td>\n",
       "      <td>[0.9615384615384615, 0.9615384615384615, 100.0...</td>\n",
       "      <td>199</td>\n",
       "      <td>[0.9615384615384615, 0.9615384615384615, 100.0...</td>\n",
       "    </tr>\n",
       "    <tr>\n",
       "      <th>36</th>\n",
       "      <td>Execution -- Execution -- Execution -- Executi...</td>\n",
       "      <td>23</td>\n",
       "      <td>100.0</td>\n",
       "      <td>[4.3478260869565215, 4.3478260869565215, 100.0...</td>\n",
       "      <td>211</td>\n",
       "      <td>[4.3478260869565215, 4.3478260869565215, 100.0...</td>\n",
       "    </tr>\n",
       "    <tr>\n",
       "      <th>53</th>\n",
       "      <td>Execution -- Execution -- Execution -- Executi...</td>\n",
       "      <td>22</td>\n",
       "      <td>100.0</td>\n",
       "      <td>[4.545454545454546, 4.545454545454546, 100.0, ...</td>\n",
       "      <td>34</td>\n",
       "      <td>[4.545454545454546, 4.545454545454546, 100.0, ...</td>\n",
       "    </tr>\n",
       "  </tbody>\n",
       "</table>\n",
       "</div>"
      ],
      "text/plain": [
       "                                          predictions  associated_sessions  \\\n",
       "31  Discovery -- Discovery -- Discovery -- Discove...                   51   \n",
       "33  Execution -- Execution -- Execution -- Executi...                  104   \n",
       "36  Execution -- Execution -- Execution -- Executi...                   23   \n",
       "53  Execution -- Execution -- Execution -- Executi...                   22   \n",
       "\n",
       "    percentage_varying_elements  \\\n",
       "31                        100.0   \n",
       "33                        100.0   \n",
       "36                        100.0   \n",
       "53                        100.0   \n",
       "\n",
       "                                            prototype  len_prototype  \\\n",
       "31  [1.9607843137254901, 1.9607843137254901, 1.960...            220   \n",
       "33  [0.9615384615384615, 0.9615384615384615, 100.0...            199   \n",
       "36  [4.3478260869565215, 4.3478260869565215, 100.0...            211   \n",
       "53  [4.545454545454546, 4.545454545454546, 100.0, ...             34   \n",
       "\n",
       "                                     padded_prototype  \n",
       "31  [1.9607843137254901, 1.9607843137254901, 1.960...  \n",
       "33  [0.9615384615384615, 0.9615384615384615, 100.0...  \n",
       "36  [4.3478260869565215, 4.3478260869565215, 100.0...  \n",
       "53  [4.545454545454546, 4.545454545454546, 100.0, ...  "
      ]
     },
     "execution_count": 33,
     "metadata": {},
     "output_type": "execute_result"
    }
   ],
   "source": [
    "import math\n",
    "new_selected_prototypes = selected_prototypes.copy()\n",
    "new_selected_prototypes[\"prototype\"] = new_selected_prototypes[\"prototype\"].apply(lambda el: el[0])\n",
    "new_selected_prototypes[\"len_prototype\"] = new_selected_prototypes[\"prototype\"].apply(lambda el: len(el))\n",
    "max_len = new_selected_prototypes[\"len_prototype\"].max()\n",
    "def pad_prototypes(row):\n",
    "    len_prototype = row.len_prototype\n",
    "    padded_prototype = [el for el in row.prototype]\n",
    "    for it in range(max_len - len_prototype):\n",
    "        padded_prototype.append(math.nan)\n",
    "    return np.array(padded_prototype)\n",
    "new_selected_prototypes[\"padded_prototype\"] = new_selected_prototypes.apply(lambda row: pad_prototypes(row), axis = 1)\n",
    "new_selected_prototypes"
   ]
  },
  {
   "cell_type": "code",
   "execution_count": 34,
   "id": "5093c986",
   "metadata": {},
   "outputs": [
    {
     "data": {
      "text/html": [
       "<div>\n",
       "<style scoped>\n",
       "    .dataframe tbody tr th:only-of-type {\n",
       "        vertical-align: middle;\n",
       "    }\n",
       "\n",
       "    .dataframe tbody tr th {\n",
       "        vertical-align: top;\n",
       "    }\n",
       "\n",
       "    .dataframe thead th {\n",
       "        text-align: right;\n",
       "    }\n",
       "</style>\n",
       "<table border=\"1\" class=\"dataframe\">\n",
       "  <thead>\n",
       "    <tr style=\"text-align: right;\">\n",
       "      <th></th>\n",
       "      <th>predictions</th>\n",
       "      <th>date</th>\n",
       "      <th>associated_sessions</th>\n",
       "      <th>label</th>\n",
       "    </tr>\n",
       "  </thead>\n",
       "  <tbody>\n",
       "    <tr>\n",
       "      <th>12</th>\n",
       "      <td>Discovery -- Discovery -- Discovery -- Discove...</td>\n",
       "      <td>2019-10-12</td>\n",
       "      <td>14</td>\n",
       "      <td>Birth: Oct. 12, 2019 - Associated sessions:  14</td>\n",
       "    </tr>\n",
       "    <tr>\n",
       "      <th>22</th>\n",
       "      <td>Discovery -- Discovery -- Discovery -- Discove...</td>\n",
       "      <td>2019-10-10</td>\n",
       "      <td>13</td>\n",
       "      <td>Birth: Oct. 10, 2019 - Associated sessions:  13</td>\n",
       "    </tr>\n",
       "  </tbody>\n",
       "</table>\n",
       "</div>"
      ],
      "text/plain": [
       "                                          predictions        date  \\\n",
       "12  Discovery -- Discovery -- Discovery -- Discove...  2019-10-12   \n",
       "22  Discovery -- Discovery -- Discovery -- Discove...  2019-10-10   \n",
       "\n",
       "    associated_sessions                                            label  \n",
       "12                   14  Birth: Oct. 12, 2019 - Associated sessions:  14  \n",
       "22                   13  Birth: Oct. 10, 2019 - Associated sessions:  13  "
      ]
     },
     "execution_count": 34,
     "metadata": {},
     "output_type": "execute_result"
    }
   ],
   "source": [
    "top_birth_and_occurrences[\"label\"] = top_birth_and_occurrences.apply(lambda row: f\"Birth: {row.date.strftime('%b. %d, %Y').rjust(10)} - Associated sessions: {str(row.associated_sessions).rjust(3)}\", axis = 1)\n",
    "top_birth_and_occurrences.head(2)"
   ]
  },
  {
   "cell_type": "code",
   "execution_count": 35,
   "id": "8bc9da5d-61ab-4e4a-9d84-e62421f18731",
   "metadata": {},
   "outputs": [
    {
     "data": {
      "image/png": "[encoded data removed]",
      "text/plain": [
       "<Figure size 2000x400 with 2 Axes>"
      ]
     },
     "metadata": {},
     "output_type": "display_data"
    }
   ],
   "source": [
    "fig, axs = plt.subplots(figsize =(20, 4))\n",
    "to_visualize = [8, 3, 6]\n",
    "fontsize = 20\n",
    "padded_prototype = np.array(list(new_selected_prototypes[\"padded_prototype\"].values))\n",
    "sns.heatmap(padded_prototype, cmap = \"jet\", linewidth = 0.003, cbar = True, linecolor = \"black\", yticklabels=False, \n",
    "            xticklabels=False, ax = axs, cbar_kws={\"pad\": 0.02})\n",
    "cbar = axs.collections[0].colorbar\n",
    "cbar.ax.set_ylabel(\"% varying elements\", fontsize = fontsize)\n",
    "cbar.ax.tick_params(labelsize=fontsize)\n",
    "axs.set_yticks(np.arange(.5, len(to_visualize) +.5))\n",
    "axs.set_yticklabels(top_birth_and_occurrences.iloc[to_visualize].label.values, fontsize = fontsize)\n",
    "axs.set_yticklabels(top_birth_and_occurrences.iloc[to_visualize].label.values, fontsize = fontsize)\n",
    "axs.set_xlabel(\"Prediction per word\", fontsize = fontsize )\n",
    "plt.tight_layout()"
   ]
  }
 ],
 "metadata": {
  "kernelspec": {
   "display_name": "Python 3 (ipykernel)",
   "language": "python",
   "name": "python3"
  },
  "language_info": {
   "codemirror_mode": {
    "name": "ipython",
    "version": 3
   },
   "file_extension": ".py",
   "mimetype": "text/x-python",
   "name": "python",
   "nbconvert_exporter": "python",
   "pygments_lexer": "ipython3",
   "version": "3.10.9"
  }
 },
 "nbformat": 4,
 "nbformat_minor": 5
}
