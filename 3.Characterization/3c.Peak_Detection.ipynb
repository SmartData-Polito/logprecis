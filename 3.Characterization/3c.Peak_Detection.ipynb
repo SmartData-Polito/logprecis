{
 "cells": [
  {
   "cell_type": "markdown",
   "id": "03e71dab-c378-4eb0-a650-80a17555c1f6",
   "metadata": {},
   "source": [
    "# This notebook analyse the relationship between new sessions (according to our labels) and new labels per day \n",
    "(FIGURE 12 of paper)"
   ]
  },
  {
   "cell_type": "markdown",
   "id": "ee6f6be8-e981-40d8-a4d9-bdec603bbf18",
   "metadata": {},
   "source": [
    "### Import dataset"
   ]
  },
  {
   "cell_type": "code",
   "execution_count": 1,
   "id": "6826285b-f735-4b1f-959a-fe28e6f14301",
   "metadata": {},
   "outputs": [
    {
     "data": {
      "text/html": [
       "<div>\n",
       "<style scoped>\n",
       "    .dataframe tbody tr th:only-of-type {\n",
       "        vertical-align: middle;\n",
       "    }\n",
       "\n",
       "    .dataframe tbody tr th {\n",
       "        vertical-align: top;\n",
       "    }\n",
       "\n",
       "    .dataframe thead th {\n",
       "        text-align: right;\n",
       "    }\n",
       "</style>\n",
       "<table border=\"1\" class=\"dataframe\">\n",
       "  <thead>\n",
       "    <tr style=\"text-align: right;\">\n",
       "      <th></th>\n",
       "      <th>session_id</th>\n",
       "      <th>sequence_words</th>\n",
       "      <th>sequence_predictions</th>\n",
       "    </tr>\n",
       "  </thead>\n",
       "  <tbody>\n",
       "    <tr>\n",
       "      <th>0</th>\n",
       "      <td>0</td>\n",
       "      <td>[enable, ;, system, ;, shell, ;, sh, ;, cat, /...</td>\n",
       "      <td>[Discovery, Discovery, Discovery, Discovery, D...</td>\n",
       "    </tr>\n",
       "    <tr>\n",
       "      <th>1</th>\n",
       "      <td>1</td>\n",
       "      <td>[enable, ;, system, ;, shell, ;, sh, ;, cat, /...</td>\n",
       "      <td>[Discovery, Discovery, Discovery, Discovery, D...</td>\n",
       "    </tr>\n",
       "  </tbody>\n",
       "</table>\n",
       "</div>"
      ],
      "text/plain": [
       "   session_id                                     sequence_words  \\\n",
       "0           0  [enable, ;, system, ;, shell, ;, sh, ;, cat, /...   \n",
       "1           1  [enable, ;, system, ;, shell, ;, sh, ;, cat, /...   \n",
       "\n",
       "                                sequence_predictions  \n",
       "0  [Discovery, Discovery, Discovery, Discovery, D...  \n",
       "1  [Discovery, Discovery, Discovery, Discovery, D...  "
      ]
     },
     "execution_count": 1,
     "metadata": {},
     "output_type": "execute_result"
    }
   ],
   "source": [
    "from tqdm import tqdm\n",
    "tqdm.pandas()\n",
    "import pandas as pd \n",
    "predicted_corpus = pd.read_parquet(f\"../1.Dataset/Inference_with_predictions/logprecis_predictions.parquet\")\n",
    "predicted_corpus.head(2)"
   ]
  },
  {
   "cell_type": "markdown",
   "id": "0990b575",
   "metadata": {},
   "source": [
    "Concatenate `sequence words` and `sequence_predictions`"
   ]
  },
  {
   "cell_type": "code",
   "execution_count": 2,
   "id": "f2e69a98",
   "metadata": {},
   "outputs": [
    {
     "name": "stderr",
     "output_type": "stream",
     "text": [
      "100%|██████████| 233035/233035 [00:01<00:00, 131494.94it/s]\n",
      "100%|██████████| 233035/233035 [00:01<00:00, 149752.09it/s]\n"
     ]
    },
    {
     "data": {
      "text/html": [
       "<div>\n",
       "<style scoped>\n",
       "    .dataframe tbody tr th:only-of-type {\n",
       "        vertical-align: middle;\n",
       "    }\n",
       "\n",
       "    .dataframe tbody tr th {\n",
       "        vertical-align: top;\n",
       "    }\n",
       "\n",
       "    .dataframe thead th {\n",
       "        text-align: right;\n",
       "    }\n",
       "</style>\n",
       "<table border=\"1\" class=\"dataframe\">\n",
       "  <thead>\n",
       "    <tr style=\"text-align: right;\">\n",
       "      <th></th>\n",
       "      <th>session_id</th>\n",
       "      <th>sequence_words</th>\n",
       "      <th>sequence_predictions</th>\n",
       "      <th>sessions</th>\n",
       "      <th>predictions</th>\n",
       "    </tr>\n",
       "  </thead>\n",
       "  <tbody>\n",
       "    <tr>\n",
       "      <th>0</th>\n",
       "      <td>0</td>\n",
       "      <td>[enable, ;, system, ;, shell, ;, sh, ;, cat, /...</td>\n",
       "      <td>[Discovery, Discovery, Discovery, Discovery, D...</td>\n",
       "      <td>enable ; system ; shell ; sh ; cat /proc/mount...</td>\n",
       "      <td>Discovery -- Discovery -- Discovery -- Discove...</td>\n",
       "    </tr>\n",
       "    <tr>\n",
       "      <th>1</th>\n",
       "      <td>1</td>\n",
       "      <td>[enable, ;, system, ;, shell, ;, sh, ;, cat, /...</td>\n",
       "      <td>[Discovery, Discovery, Discovery, Discovery, D...</td>\n",
       "      <td>enable ; system ; shell ; sh ; cat /proc/mount...</td>\n",
       "      <td>Discovery -- Discovery -- Discovery -- Discove...</td>\n",
       "    </tr>\n",
       "  </tbody>\n",
       "</table>\n",
       "</div>"
      ],
      "text/plain": [
       "   session_id                                     sequence_words  \\\n",
       "0           0  [enable, ;, system, ;, shell, ;, sh, ;, cat, /...   \n",
       "1           1  [enable, ;, system, ;, shell, ;, sh, ;, cat, /...   \n",
       "\n",
       "                                sequence_predictions  \\\n",
       "0  [Discovery, Discovery, Discovery, Discovery, D...   \n",
       "1  [Discovery, Discovery, Discovery, Discovery, D...   \n",
       "\n",
       "                                            sessions  \\\n",
       "0  enable ; system ; shell ; sh ; cat /proc/mount...   \n",
       "1  enable ; system ; shell ; sh ; cat /proc/mount...   \n",
       "\n",
       "                                         predictions  \n",
       "0  Discovery -- Discovery -- Discovery -- Discove...  \n",
       "1  Discovery -- Discovery -- Discovery -- Discove...  "
      ]
     },
     "execution_count": 2,
     "metadata": {},
     "output_type": "execute_result"
    }
   ],
   "source": [
    "predicted_corpus[\"sessions\"] = predicted_corpus[\"sequence_words\"].progress_apply(\n",
    "                                                lambda split_session: \" \".join(split_session))\n",
    "predicted_corpus[\"predictions\"] = predicted_corpus[\"sequence_predictions\"].progress_apply(\n",
    "                                                lambda split_prediction: \" -- \".join(split_prediction))\n",
    "predicted_corpus.head(2)"
   ]
  },
  {
   "cell_type": "markdown",
   "id": "58ee7089-db6f-4d59-a26e-f865bd8998f9",
   "metadata": {},
   "source": [
    "#### How many unique sessions? How many unique predictions?"
   ]
  },
  {
   "cell_type": "code",
   "execution_count": 3,
   "id": "9d1f92f0-88fb-46f8-aefb-dd5e21bfdef2",
   "metadata": {},
   "outputs": [
    {
     "name": "stdout",
     "output_type": "stream",
     "text": [
      "Number of unique sessions: 233,035\n",
      "Number of unique predictions: 1,673\n"
     ]
    }
   ],
   "source": [
    "print(f\"Number of unique sessions: {predicted_corpus.sessions.nunique():,}\")\n",
    "print(f\"Number of unique predictions: {predicted_corpus.predictions.nunique():,}\")"
   ]
  },
  {
   "cell_type": "markdown",
   "id": "a7feafb3",
   "metadata": {},
   "source": [
    "Load original data"
   ]
  },
  {
   "cell_type": "code",
   "execution_count": 4,
   "id": "b1a9371d",
   "metadata": {},
   "outputs": [
    {
     "data": {
      "text/html": [
       "<div>\n",
       "<style scoped>\n",
       "    .dataframe tbody tr th:only-of-type {\n",
       "        vertical-align: middle;\n",
       "    }\n",
       "\n",
       "    .dataframe tbody tr th {\n",
       "        vertical-align: top;\n",
       "    }\n",
       "\n",
       "    .dataframe thead th {\n",
       "        text-align: right;\n",
       "    }\n",
       "</style>\n",
       "<table border=\"1\" class=\"dataframe\">\n",
       "  <thead>\n",
       "    <tr style=\"text-align: right;\">\n",
       "      <th></th>\n",
       "      <th>session_id</th>\n",
       "      <th>session</th>\n",
       "      <th>sensor</th>\n",
       "      <th>first_timestamp</th>\n",
       "      <th>date</th>\n",
       "    </tr>\n",
       "  </thead>\n",
       "  <tbody>\n",
       "    <tr>\n",
       "      <th>0</th>\n",
       "      <td>0</td>\n",
       "      <td>enable ; system ; shell ; sh ; cat /proc/mount...</td>\n",
       "      <td>eea5dc653b37</td>\n",
       "      <td>2019-06-04 09:45:11.151186+00:00</td>\n",
       "      <td>2019-06-04</td>\n",
       "    </tr>\n",
       "    <tr>\n",
       "      <th>1</th>\n",
       "      <td>1</td>\n",
       "      <td>enable ; system ; shell ; sh ; cat /proc/mount...</td>\n",
       "      <td>eea5dc653b37</td>\n",
       "      <td>2019-06-04 09:45:50.396610+00:00</td>\n",
       "      <td>2019-06-04</td>\n",
       "    </tr>\n",
       "  </tbody>\n",
       "</table>\n",
       "</div>"
      ],
      "text/plain": [
       "   session_id                                            session  \\\n",
       "0           0  enable ; system ; shell ; sh ; cat /proc/mount...   \n",
       "1           1  enable ; system ; shell ; sh ; cat /proc/mount...   \n",
       "\n",
       "         sensor                   first_timestamp        date  \n",
       "0  eea5dc653b37  2019-06-04 09:45:11.151186+00:00  2019-06-04  \n",
       "1  eea5dc653b37  2019-06-04 09:45:50.396610+00:00  2019-06-04  "
      ]
     },
     "execution_count": 4,
     "metadata": {},
     "output_type": "execute_result"
    }
   ],
   "source": [
    "full_corpus = pd.read_csv(f\"../1.Dataset/Inference/cyberlab_data.csv\")\n",
    "if \"session_id\" in full_corpus.columns:\n",
    "    full_corpus = full_corpus.drop(\"session_id\", axis=1)\n",
    "full_corpus = full_corpus.reset_index().rename({\"index\":\"session_id\"}, axis=1)\n",
    "full_corpus.head(2)"
   ]
  },
  {
   "cell_type": "markdown",
   "id": "f750736c",
   "metadata": {},
   "source": [
    "Join with predictions"
   ]
  },
  {
   "cell_type": "code",
   "execution_count": 5,
   "id": "19569f11",
   "metadata": {},
   "outputs": [
    {
     "data": {
      "text/html": [
       "<div>\n",
       "<style scoped>\n",
       "    .dataframe tbody tr th:only-of-type {\n",
       "        vertical-align: middle;\n",
       "    }\n",
       "\n",
       "    .dataframe tbody tr th {\n",
       "        vertical-align: top;\n",
       "    }\n",
       "\n",
       "    .dataframe thead th {\n",
       "        text-align: right;\n",
       "    }\n",
       "</style>\n",
       "<table border=\"1\" class=\"dataframe\">\n",
       "  <thead>\n",
       "    <tr style=\"text-align: right;\">\n",
       "      <th></th>\n",
       "      <th>session_id</th>\n",
       "      <th>first_timestamp</th>\n",
       "      <th>sensor</th>\n",
       "      <th>date</th>\n",
       "      <th>sessions</th>\n",
       "      <th>predictions</th>\n",
       "    </tr>\n",
       "  </thead>\n",
       "  <tbody>\n",
       "    <tr>\n",
       "      <th>0</th>\n",
       "      <td>0</td>\n",
       "      <td>2019-06-04 09:45:11.151186+00:00</td>\n",
       "      <td>eea5dc653b37</td>\n",
       "      <td>2019-06-04</td>\n",
       "      <td>enable ; system ; shell ; sh ; cat /proc/mount...</td>\n",
       "      <td>Discovery -- Discovery -- Discovery -- Discove...</td>\n",
       "    </tr>\n",
       "    <tr>\n",
       "      <th>1</th>\n",
       "      <td>1</td>\n",
       "      <td>2019-06-04 09:45:50.396610+00:00</td>\n",
       "      <td>eea5dc653b37</td>\n",
       "      <td>2019-06-04</td>\n",
       "      <td>enable ; system ; shell ; sh ; cat /proc/mount...</td>\n",
       "      <td>Discovery -- Discovery -- Discovery -- Discove...</td>\n",
       "    </tr>\n",
       "  </tbody>\n",
       "</table>\n",
       "</div>"
      ],
      "text/plain": [
       "   session_id                   first_timestamp        sensor        date  \\\n",
       "0           0  2019-06-04 09:45:11.151186+00:00  eea5dc653b37  2019-06-04   \n",
       "1           1  2019-06-04 09:45:50.396610+00:00  eea5dc653b37  2019-06-04   \n",
       "\n",
       "                                            sessions  \\\n",
       "0  enable ; system ; shell ; sh ; cat /proc/mount...   \n",
       "1  enable ; system ; shell ; sh ; cat /proc/mount...   \n",
       "\n",
       "                                         predictions  \n",
       "0  Discovery -- Discovery -- Discovery -- Discove...  \n",
       "1  Discovery -- Discovery -- Discovery -- Discove...  "
      ]
     },
     "execution_count": 5,
     "metadata": {},
     "output_type": "execute_result"
    }
   ],
   "source": [
    "joined_corpus = full_corpus[[\"session_id\", \"first_timestamp\", \"sensor\", \"date\"]].merge(predicted_corpus[[\"session_id\", \"sessions\", \"predictions\"]], on=\"session_id\")\n",
    "joined_corpus.head(2)"
   ]
  },
  {
   "cell_type": "markdown",
   "id": "ace5a378",
   "metadata": {},
   "source": [
    "#### Create date attribute"
   ]
  },
  {
   "cell_type": "code",
   "execution_count": 6,
   "id": "8e35921b",
   "metadata": {},
   "outputs": [
    {
     "data": {
      "text/html": [
       "<div>\n",
       "<style scoped>\n",
       "    .dataframe tbody tr th:only-of-type {\n",
       "        vertical-align: middle;\n",
       "    }\n",
       "\n",
       "    .dataframe tbody tr th {\n",
       "        vertical-align: top;\n",
       "    }\n",
       "\n",
       "    .dataframe thead th {\n",
       "        text-align: right;\n",
       "    }\n",
       "</style>\n",
       "<table border=\"1\" class=\"dataframe\">\n",
       "  <thead>\n",
       "    <tr style=\"text-align: right;\">\n",
       "      <th></th>\n",
       "      <th>session_id</th>\n",
       "      <th>first_timestamp</th>\n",
       "      <th>sensor</th>\n",
       "      <th>date</th>\n",
       "      <th>sessions</th>\n",
       "      <th>predictions</th>\n",
       "    </tr>\n",
       "  </thead>\n",
       "  <tbody>\n",
       "    <tr>\n",
       "      <th>0</th>\n",
       "      <td>0</td>\n",
       "      <td>2019-06-04 09:45:11.151186+00:00</td>\n",
       "      <td>eea5dc653b37</td>\n",
       "      <td>2019-06-04</td>\n",
       "      <td>enable ; system ; shell ; sh ; cat /proc/mount...</td>\n",
       "      <td>Discovery -- Discovery -- Discovery -- Discove...</td>\n",
       "    </tr>\n",
       "    <tr>\n",
       "      <th>1</th>\n",
       "      <td>1</td>\n",
       "      <td>2019-06-04 09:45:50.396610+00:00</td>\n",
       "      <td>eea5dc653b37</td>\n",
       "      <td>2019-06-04</td>\n",
       "      <td>enable ; system ; shell ; sh ; cat /proc/mount...</td>\n",
       "      <td>Discovery -- Discovery -- Discovery -- Discove...</td>\n",
       "    </tr>\n",
       "  </tbody>\n",
       "</table>\n",
       "</div>"
      ],
      "text/plain": [
       "   session_id                  first_timestamp        sensor        date  \\\n",
       "0           0 2019-06-04 09:45:11.151186+00:00  eea5dc653b37  2019-06-04   \n",
       "1           1 2019-06-04 09:45:50.396610+00:00  eea5dc653b37  2019-06-04   \n",
       "\n",
       "                                            sessions  \\\n",
       "0  enable ; system ; shell ; sh ; cat /proc/mount...   \n",
       "1  enable ; system ; shell ; sh ; cat /proc/mount...   \n",
       "\n",
       "                                         predictions  \n",
       "0  Discovery -- Discovery -- Discovery -- Discove...  \n",
       "1  Discovery -- Discovery -- Discovery -- Discove...  "
      ]
     },
     "execution_count": 6,
     "metadata": {},
     "output_type": "execute_result"
    }
   ],
   "source": [
    "joined_corpus[\"first_timestamp\"] = pd.to_datetime(joined_corpus[\"first_timestamp\"])\n",
    "joined_corpus[\"date\"] = joined_corpus[\"first_timestamp\"].apply(lambda datetime: datetime.date())\n",
    "joined_corpus.head(2)"
   ]
  },
  {
   "cell_type": "markdown",
   "id": "a3602142-6752-403a-87d2-1160ff73c32e",
   "metadata": {},
   "source": [
    "#### Make sure we are handling only unique sessions"
   ]
  },
  {
   "cell_type": "code",
   "execution_count": 7,
   "id": "27d5dfe9-2c6c-4997-a7c1-27453f0d2110",
   "metadata": {},
   "outputs": [
    {
     "name": "stdout",
     "output_type": "stream",
     "text": [
      "Before dropping duplicates: 233035\n"
     ]
    },
    {
     "name": "stdout",
     "output_type": "stream",
     "text": [
      "After dropping duplicates: 233035\n"
     ]
    },
    {
     "data": {
      "text/html": [
       "<div>\n",
       "<style scoped>\n",
       "    .dataframe tbody tr th:only-of-type {\n",
       "        vertical-align: middle;\n",
       "    }\n",
       "\n",
       "    .dataframe tbody tr th {\n",
       "        vertical-align: top;\n",
       "    }\n",
       "\n",
       "    .dataframe thead th {\n",
       "        text-align: right;\n",
       "    }\n",
       "</style>\n",
       "<table border=\"1\" class=\"dataframe\">\n",
       "  <thead>\n",
       "    <tr style=\"text-align: right;\">\n",
       "      <th></th>\n",
       "      <th>session_id</th>\n",
       "      <th>first_timestamp</th>\n",
       "      <th>sensor</th>\n",
       "      <th>date</th>\n",
       "      <th>sessions</th>\n",
       "      <th>predictions</th>\n",
       "    </tr>\n",
       "  </thead>\n",
       "  <tbody>\n",
       "    <tr>\n",
       "      <th>0</th>\n",
       "      <td>0</td>\n",
       "      <td>2019-06-04 09:45:11.151186+00:00</td>\n",
       "      <td>eea5dc653b37</td>\n",
       "      <td>2019-06-04</td>\n",
       "      <td>enable ; system ; shell ; sh ; cat /proc/mount...</td>\n",
       "      <td>Discovery -- Discovery -- Discovery -- Discove...</td>\n",
       "    </tr>\n",
       "    <tr>\n",
       "      <th>1</th>\n",
       "      <td>1</td>\n",
       "      <td>2019-06-04 09:45:50.396610+00:00</td>\n",
       "      <td>eea5dc653b37</td>\n",
       "      <td>2019-06-04</td>\n",
       "      <td>enable ; system ; shell ; sh ; cat /proc/mount...</td>\n",
       "      <td>Discovery -- Discovery -- Discovery -- Discove...</td>\n",
       "    </tr>\n",
       "  </tbody>\n",
       "</table>\n",
       "</div>"
      ],
      "text/plain": [
       "   session_id                  first_timestamp        sensor        date  \\\n",
       "0           0 2019-06-04 09:45:11.151186+00:00  eea5dc653b37  2019-06-04   \n",
       "1           1 2019-06-04 09:45:50.396610+00:00  eea5dc653b37  2019-06-04   \n",
       "\n",
       "                                            sessions  \\\n",
       "0  enable ; system ; shell ; sh ; cat /proc/mount...   \n",
       "1  enable ; system ; shell ; sh ; cat /proc/mount...   \n",
       "\n",
       "                                         predictions  \n",
       "0  Discovery -- Discovery -- Discovery -- Discove...  \n",
       "1  Discovery -- Discovery -- Discovery -- Discove...  "
      ]
     },
     "execution_count": 7,
     "metadata": {},
     "output_type": "execute_result"
    }
   ],
   "source": [
    "print(f\"Before dropping duplicates: {joined_corpus.shape[0]}\")\n",
    "joined_corpus.sort_values(by = \"first_timestamp\", ascending = True, inplace = True)\n",
    "joined_corpus = joined_corpus.drop_duplicates([\"sessions\"])\n",
    "print(f\"After dropping duplicates: {joined_corpus.shape[0]}\")\n",
    "joined_corpus.head(2)"
   ]
  },
  {
   "cell_type": "markdown",
   "id": "58cecfd6-bab7-4c4e-afcd-adc8506973f0",
   "metadata": {},
   "source": [
    "#### How long did the collection last?"
   ]
  },
  {
   "cell_type": "code",
   "execution_count": 8,
   "id": "413b5b45-09c1-4b4b-9928-68d89a9ea3cf",
   "metadata": {},
   "outputs": [
    {
     "name": "stdout",
     "output_type": "stream",
     "text": [
      "Collection started in 2019-06-04 09:45:11.151186+00:00 and lasted untill 2020-02-03 10:58:18.717376+00:00\n"
     ]
    }
   ],
   "source": [
    "start = joined_corpus.first_timestamp.min()\n",
    "stop = joined_corpus.first_timestamp.max()\n",
    "print(f\"Collection started in {start} and lasted untill {stop}\")"
   ]
  },
  {
   "cell_type": "markdown",
   "id": "5010e6f4-55dd-47bb-804a-ca758dedda02",
   "metadata": {},
   "source": [
    "#### Which distribution of unique sessions/day? Group daily stats"
   ]
  },
  {
   "cell_type": "code",
   "execution_count": 52,
   "id": "4cee96f9-3b5b-4309-aa6c-5aaa3136a942",
   "metadata": {},
   "outputs": [
    {
     "data": {
      "text/html": [
       "<div>\n",
       "<style scoped>\n",
       "    .dataframe tbody tr th:only-of-type {\n",
       "        vertical-align: middle;\n",
       "    }\n",
       "\n",
       "    .dataframe tbody tr th {\n",
       "        vertical-align: top;\n",
       "    }\n",
       "\n",
       "    .dataframe thead th {\n",
       "        text-align: right;\n",
       "    }\n",
       "</style>\n",
       "<table border=\"1\" class=\"dataframe\">\n",
       "  <thead>\n",
       "    <tr style=\"text-align: right;\">\n",
       "      <th></th>\n",
       "      <th>sessions</th>\n",
       "    </tr>\n",
       "  </thead>\n",
       "  <tbody>\n",
       "    <tr>\n",
       "      <th>2019-06-04</th>\n",
       "      <td>82.0</td>\n",
       "    </tr>\n",
       "    <tr>\n",
       "      <th>2019-06-05</th>\n",
       "      <td>125.0</td>\n",
       "    </tr>\n",
       "  </tbody>\n",
       "</table>\n",
       "</div>"
      ],
      "text/plain": [
       "            sessions\n",
       "2019-06-04      82.0\n",
       "2019-06-05     125.0"
      ]
     },
     "execution_count": 52,
     "metadata": {},
     "output_type": "execute_result"
    }
   ],
   "source": [
    "# Groupby date and set date as an index\n",
    "unique_session_per_date = joined_corpus.groupby(\"date\")[\"sessions\"].count().reset_index().rename({\"full_session\":\"unique_sessions_per_day\"}, axis = 1).sort_values(by = \"date\")\n",
    "unique_session_per_date.set_index(unique_session_per_date.date, inplace = True)\n",
    "unique_session_per_date.drop(\"date\", axis = 1, inplace = True)\n",
    "# Now refill dates in which the honeypot was off with None\n",
    "joined_corpus_dropna = joined_corpus.dropna()\n",
    "idx = pd.date_range(joined_corpus_dropna.date.min(), joined_corpus_dropna.date.max())\n",
    "unique_session_per_date = unique_session_per_date.reindex(idx, fill_value=None)\n",
    "unique_session_per_date.head(2)"
   ]
  },
  {
   "cell_type": "markdown",
   "id": "17219946",
   "metadata": {},
   "source": [
    "For each label, getting the date of first appearance"
   ]
  },
  {
   "cell_type": "code",
   "execution_count": 54,
   "id": "192d0eba",
   "metadata": {},
   "outputs": [
    {
     "data": {
      "text/html": [
       "<div>\n",
       "<style scoped>\n",
       "    .dataframe tbody tr th:only-of-type {\n",
       "        vertical-align: middle;\n",
       "    }\n",
       "\n",
       "    .dataframe tbody tr th {\n",
       "        vertical-align: top;\n",
       "    }\n",
       "\n",
       "    .dataframe thead th {\n",
       "        text-align: right;\n",
       "    }\n",
       "</style>\n",
       "<table border=\"1\" class=\"dataframe\">\n",
       "  <thead>\n",
       "    <tr style=\"text-align: right;\">\n",
       "      <th></th>\n",
       "      <th>first_appearance</th>\n",
       "      <th>predictions</th>\n",
       "    </tr>\n",
       "  </thead>\n",
       "  <tbody>\n",
       "    <tr>\n",
       "      <th>0</th>\n",
       "      <td>2019-06-04</td>\n",
       "      <td>Discovery -- Discovery -- Discovery -- Discove...</td>\n",
       "    </tr>\n",
       "    <tr>\n",
       "      <th>59</th>\n",
       "      <td>2019-06-04</td>\n",
       "      <td>Discovery -- Discovery -- Discovery -- Discove...</td>\n",
       "    </tr>\n",
       "  </tbody>\n",
       "</table>\n",
       "</div>"
      ],
      "text/plain": [
       "   first_appearance                                        predictions\n",
       "0        2019-06-04  Discovery -- Discovery -- Discovery -- Discove...\n",
       "59       2019-06-04  Discovery -- Discovery -- Discovery -- Discove..."
      ]
     },
     "execution_count": 54,
     "metadata": {},
     "output_type": "execute_result"
    }
   ],
   "source": [
    "labels_first_appearances = joined_corpus[[\"date\", \"predictions\"]].sort_values(by = \"date\").drop_duplicates([\"predictions\"])\n",
    "labels_first_appearances = labels_first_appearances.rename({\"date\":\"first_appearance\"}, axis = 1)\n",
    "labels_first_appearances.head(2)"
   ]
  },
  {
   "cell_type": "markdown",
   "id": "b93c3c68",
   "metadata": {},
   "source": [
    "Now, find the number of unique predictions/day according to the model"
   ]
  },
  {
   "cell_type": "code",
   "execution_count": 57,
   "id": "b98a55ec",
   "metadata": {},
   "outputs": [
    {
     "data": {
      "text/html": [
       "<div>\n",
       "<style scoped>\n",
       "    .dataframe tbody tr th:only-of-type {\n",
       "        vertical-align: middle;\n",
       "    }\n",
       "\n",
       "    .dataframe tbody tr th {\n",
       "        vertical-align: top;\n",
       "    }\n",
       "\n",
       "    .dataframe thead th {\n",
       "        text-align: right;\n",
       "    }\n",
       "</style>\n",
       "<table border=\"1\" class=\"dataframe\">\n",
       "  <thead>\n",
       "    <tr style=\"text-align: right;\">\n",
       "      <th></th>\n",
       "      <th>new_labels_per_day</th>\n",
       "    </tr>\n",
       "  </thead>\n",
       "  <tbody>\n",
       "    <tr>\n",
       "      <th>2019-06-04</th>\n",
       "      <td>12.0</td>\n",
       "    </tr>\n",
       "    <tr>\n",
       "      <th>2019-06-05</th>\n",
       "      <td>8.0</td>\n",
       "    </tr>\n",
       "  </tbody>\n",
       "</table>\n",
       "</div>"
      ],
      "text/plain": [
       "            new_labels_per_day\n",
       "2019-06-04                12.0\n",
       "2019-06-05                 8.0"
      ]
     },
     "execution_count": 57,
     "metadata": {},
     "output_type": "execute_result"
    }
   ],
   "source": [
    "# Groupby date and set date as an index\n",
    "unique_labels_per_date = labels_first_appearances.groupby(\"first_appearance\")[\"predictions\"].nunique().reset_index().rename({\"predictions\":\"new_labels_per_day\"}, axis = 1).sort_values(by = \"first_appearance\")\n",
    "unique_labels_per_date.set_index(unique_labels_per_date.first_appearance, inplace = True)\n",
    "unique_labels_per_date.drop(\"first_appearance\", axis = 1, inplace = True)\n",
    "# Now refill dates in which the honeypot was off with None\n",
    "idx = pd.date_range(joined_corpus_dropna.date.min(), joined_corpus_dropna.date.max())\n",
    "unique_labels_per_date = unique_labels_per_date.reindex(idx, fill_value=None)\n",
    "unique_labels_per_date.head(2)"
   ]
  },
  {
   "cell_type": "code",
   "execution_count": 59,
   "id": "552d8c96",
   "metadata": {},
   "outputs": [
    {
     "data": {
      "image/png": "[encoded data removed]",
      "text/plain": [
       "<Figure size 1000x400 with 2 Axes>"
      ]
     },
     "metadata": {},
     "output_type": "display_data"
    }
   ],
   "source": [
    "import matplotlib.pyplot as plt \n",
    "\n",
    "fig, (ax1, ax2) = plt.subplots(1,2, figsize=(10,4))\n",
    "fontsize = 15\n",
    "\n",
    "# First ax\n",
    "ax1.plot(unique_session_per_date.index, unique_session_per_date.sessions, linewidth = 2, color = \"royalblue\", label = \"|Unique sessions|\")\n",
    "ax1.set_ylabel('|Unique sessions|', fontsize = fontsize + 3)\n",
    "ax1.yaxis.set_tick_params(labelsize=fontsize)\n",
    "ax1.set_xlabel('Date', fontsize = fontsize + 3)\n",
    "ax1.xaxis.set_tick_params(labelsize=fontsize, rotation = 60)  \n",
    "ax1.grid(linewidth = .5)\n",
    "\n",
    "# Second ax\n",
    "ax2.plot(unique_labels_per_date.index, unique_labels_per_date.new_labels_per_day, linewidth = 2, color = \"firebrick\", label = \"|New labels|\", alpha = .7)\n",
    "ax2.set_ylabel('|New labels|', fontsize = fontsize + 3)\n",
    "ax2.set_xlabel('Date', fontsize = fontsize + 3)\n",
    "ax2.yaxis.set_tick_params(labelsize=fontsize)\n",
    "ax2.xaxis.set_tick_params(labelsize=fontsize, rotation = 60)   \n",
    "ax2.grid(linewidth = .5)\n",
    "\n",
    "plt.tight_layout()\n",
    "plt.show()"
   ]
  },
  {
   "cell_type": "markdown",
   "id": "3c6a8f0d",
   "metadata": {},
   "source": [
    "COMMENT: The plot above shows that we indeed perform an aggregation, moving from ~ 500 unique sessions per day to ~ 30 unique labels per day"
   ]
  }
 ],
 "metadata": {
  "kernelspec": {
   "display_name": "Python 3 (ipykernel)",
   "language": "python",
   "name": "python3"
  },
  "language_info": {
   "codemirror_mode": {
    "name": "ipython",
    "version": 3
   },
   "file_extension": ".py",
   "mimetype": "text/x-python",
   "name": "python",
   "nbconvert_exporter": "python",
   "pygments_lexer": "ipython3",
   "version": "3.10.9"
  }
 },
 "nbformat": 4,
 "nbformat_minor": 5
}
